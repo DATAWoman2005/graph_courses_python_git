{
  "cells": [
    {
      "cell_type": "markdown",
      "metadata": {},
      "source": [
        "---\n",
        "title: \"Global Insights Dashboard: Suicide, Happiness, and Internet Use\"\n",
        "author: \"my_project\"\n",
        "format: dashboard\n",
        "theme: sketchy\n",
        "---"
      ],
      "id": "1e62255d"
    },
    {
      "cell_type": "code",
      "metadata": {},
      "source": [
        "import pandas as pd\n",
        "import plotly.express as px\n",
        "import itables \n",
        "import country_converter as cc\n",
        "from functools import reduce"
      ],
      "id": "2297fa36",
      "execution_count": null,
      "outputs": []
    },
    {
      "cell_type": "code",
      "metadata": {},
      "source": [
        "#| output: false\n",
        "# happiness_score dataset\n",
        "happiness_data = pd.read_csv(\"data\\hapiscore_whr.csv\")\n",
        "\n",
        "happiness_data"
      ],
      "id": "08109319",
      "execution_count": null,
      "outputs": []
    },
    {
      "cell_type": "code",
      "metadata": {},
      "source": [
        "#| output: false\n",
        "# changing dataset to a long format\n",
        "happiness_data_long = happiness_data.melt(id_vars=\"country\")\n",
        "happiness_data_long"
      ],
      "id": "de07c239",
      "execution_count": null,
      "outputs": []
    },
    {
      "cell_type": "code",
      "metadata": {},
      "source": [
        "#| output: false\n",
        "# changing to representative column names\n",
        "happiness_data_long = happiness_data.melt(id_vars=\"country\", var_name=\"year\", value_name = \"percent_happiness\").sort_values([\"country\", \"year\"])\n",
        "\n",
        "happiness_data_long"
      ],
      "id": "ef673ac2",
      "execution_count": null,
      "outputs": []
    },
    {
      "cell_type": "code",
      "metadata": {},
      "source": [
        "#| output: false\n",
        "# checking datatype\n",
        "happiness_data_long.dtypes"
      ],
      "id": "3f385471",
      "execution_count": null,
      "outputs": []
    },
    {
      "cell_type": "code",
      "metadata": {},
      "source": [
        "#| output: false\n",
        "# converting the 'year' column to integer type, and coercing errors to NaN\n",
        "happiness_data_long['year'] = pd.to_numeric(happiness_data_long['year'], errors='coerce')\n",
        "\n",
        "# Confirm the conversion\n",
        "print(happiness_data_long['year'].dtype)"
      ],
      "id": "a87b7d38",
      "execution_count": null,
      "outputs": []
    },
    {
      "cell_type": "code",
      "metadata": {},
      "source": [
        "#| output: false\n",
        "# filtering for year 2017 to 2022\n",
        "happiness_data_long = happiness_data_long[\n",
        "    (happiness_data_long['year'] >= 2017) & (happiness_data_long['year'] <= 2022)\n",
        "]\n",
        "\n",
        "# Check the result\n",
        "print(happiness_data_long['year'].unique())\n",
        "print(happiness_data_long[\"country\"].unique())\n",
        "print(happiness_data_long.shape)"
      ],
      "id": "d74e1aaf",
      "execution_count": null,
      "outputs": []
    },
    {
      "cell_type": "code",
      "metadata": {},
      "source": [
        "#| output: false\n",
        "# Updating rows where 'country' equals 'UAE'\n",
        "happiness_data_long.loc[happiness_data_long['country'] == 'UAE', 'country'] = 'United Arab Emirates'\n",
        "\n",
        "# Verify the change\n",
        "print(happiness_data_long['country'].unique())"
      ],
      "id": "cabd30eb",
      "execution_count": null,
      "outputs": []
    },
    {
      "cell_type": "code",
      "metadata": {},
      "source": [
        "#| output: false\n",
        "\n",
        "# converting country names to ISO3 codes\n",
        "happiness_data_long[\"country_code\"] = cc.convert(happiness_data_long[\"country\"], to=\"ISO3\")\n",
        "\n",
        "# Verify the result\n",
        "print(happiness_data_long.head())\n",
        "print(f\"Shape after dropping invalid countries: {happiness_data_long.shape}\")"
      ],
      "id": "df44c510",
      "execution_count": null,
      "outputs": []
    },
    {
      "cell_type": "code",
      "metadata": {},
      "source": [
        "#| output: false\n",
        "# suicide_rate dataset\n",
        "suicide_rate = pd.read_csv(\"data\\suicide_rate_data.csv\")\n",
        "\n",
        "suicide_rate"
      ],
      "id": "53ac5424",
      "execution_count": null,
      "outputs": []
    },
    {
      "cell_type": "code",
      "metadata": {},
      "source": [
        "#| output: false\n",
        "# selecting applicable columns\n",
        "suicide_rate_subset = suicide_rate [[\"Reference area\", \"Sex\", \"TIME_PERIOD\", \"OBS_VALUE\"]]\n",
        "\n",
        "suicide_rate_subset"
      ],
      "id": "e7f93a37",
      "execution_count": null,
      "outputs": []
    },
    {
      "cell_type": "code",
      "metadata": {},
      "source": [
        "#| output: false\n",
        "# changing to representative column names\n",
        "suicide_rate_subset = suicide_rate_subset.rename(columns={\"Reference area\": \"country\", \"Sex\": \"sex\", \"TIME_PERIOD\": \"year\", \"OBS_VALUE\": \"mortality_count\"})\n",
        "\n",
        "suicide_rate_subset = suicide_rate_subset.sort_values([\"country\", \"year\"])\n",
        "\n",
        "suicide_rate_subset"
      ],
      "id": "0a410713",
      "execution_count": null,
      "outputs": []
    },
    {
      "cell_type": "code",
      "metadata": {},
      "source": [
        "#| output: false\n",
        "# dropping rows with 'OECD' or 'European Union' in the 'country' column \n",
        "# as only interested in single country names\n",
        "suicide_rate_subset = suicide_rate_subset[\n",
        "    ~suicide_rate_subset['country'].str.contains(\"OECD|European Union\", case=False, na=False,regex=True)\n",
        "]\n",
        "\n",
        "# Verify the result\n",
        "print(suicide_rate_subset['country'].unique())\n",
        "print(f\"Shape after dropping OECD and European Union rows: {suicide_rate_subset.shape}\")"
      ],
      "id": "4b4ae575",
      "execution_count": null,
      "outputs": []
    },
    {
      "cell_type": "code",
      "metadata": {},
      "source": [
        "#| output: false\n",
        "\n",
        "# unique number of countries in happiness dataset\n",
        "suic_country_count = suicide_rate_subset[\"country\"].nunique()\n",
        "\n",
        "suic_country_count"
      ],
      "id": "cba53f4a",
      "execution_count": null,
      "outputs": []
    },
    {
      "cell_type": "code",
      "metadata": {},
      "source": [
        "#| output: false\n",
        "# internet_use dataset\n",
        "internet_use = pd.read_csv (\"data\\household_internet_use.csv\")\n",
        "\n",
        "internet_use "
      ],
      "id": "62b203bb",
      "execution_count": null,
      "outputs": []
    },
    {
      "cell_type": "code",
      "metadata": {},
      "source": [
        "#| output: false\n",
        "# selecting applicable columns\n",
        "internet_use_subset = internet_use[[\"Reference area\", \"TIME_PERIOD\", \"OBS_VALUE\"]]\n",
        "\n",
        "internet_use_subset"
      ],
      "id": "4f51a4fa",
      "execution_count": null,
      "outputs": []
    },
    {
      "cell_type": "code",
      "metadata": {},
      "source": [
        "#| output: false\n",
        "# changing to representative column names\n",
        "internet_use_subset = internet_use_subset.rename(columns={\"Reference area\": \"country\", \"TIME_PERIOD\": \"year\", \"OBS_VALUE\": \"percent_internet_household\"})\n",
        "\n",
        "internet_use_subset"
      ],
      "id": "71066932",
      "execution_count": null,
      "outputs": []
    },
    {
      "cell_type": "code",
      "metadata": {},
      "source": [
        "#| output: false\n",
        "# dropping rows with 'OECD' or 'European Union' in the 'country' column\n",
        "internet_use_subset = internet_use_subset[\n",
        "    ~internet_use_subset['country'].str.contains(\"OECD|European Union\", case=False, na=False,regex=True)\n",
        "]\n",
        "\n",
        "# Verify the result\n",
        "print(internet_use_subset['country'].unique())\n",
        "print(f\"Shape after dropping OECD and European Union rows: {internet_use_subset.shape}\")"
      ],
      "id": "3475fb32",
      "execution_count": null,
      "outputs": []
    },
    {
      "cell_type": "code",
      "metadata": {},
      "source": [
        "#| output: false\n",
        "# rounding to 1 decimal for consistency with other datasets\n",
        "internet_use_subset[\"percent_internet_household\"] = internet_use_subset[\"percent_internet_household\"].round(1)\n",
        "\n",
        "internet_use_subset"
      ],
      "id": "fe9478aa",
      "execution_count": null,
      "outputs": []
    },
    {
      "cell_type": "code",
      "metadata": {},
      "source": [
        "#| output: false\n",
        "internet_use_subset[\"country_code\"]  = cc.convert(internet_use_subset[\"country\"], to=\"ISO3\")\n",
        "\n",
        "\n",
        "# Verify the result\n",
        "print(internet_use_subset.head())\n",
        "print(f\"New shape of the DataFrame: {internet_use_subset.shape}\")"
      ],
      "id": "8ad136ac",
      "execution_count": null,
      "outputs": []
    },
    {
      "cell_type": "code",
      "metadata": {},
      "source": [
        "#| output: false\n",
        "internet_use_subset = internet_use_subset.sort_values([\"country\",\"year\"])"
      ],
      "id": "22ed173c",
      "execution_count": null,
      "outputs": []
    },
    {
      "cell_type": "code",
      "metadata": {},
      "source": [
        "#| output: false\n",
        "#calculating missing values for each dataset\n",
        "happiness_missing = happiness_data_long.isna().sum()\n",
        "internet_missing = internet_use_subset.isna().sum()\n",
        "suicide_missing = suicide_rate_subset.isna().sum()\n",
        "\n",
        "\n",
        "# combining the results into a single DataFrame\n",
        "missing_summary = pd.DataFrame({\n",
        "   'dataset': ['percent_happiness', 'internet_use', 'suicide_rate'],\n",
        "   'country': [happiness_missing['country'], internet_missing['country'], suicide_missing['country']],\n",
        "   'year': [happiness_missing['year'], internet_missing['year'], suicide_missing['year']],\n",
        "   'value_column': [happiness_missing['percent_happiness'], internet_missing['percent_internet_household'], suicide_missing['mortality_count']]\n",
        "})\n",
        "\n",
        "missing_summary                      "
      ],
      "id": "07d7e020",
      "execution_count": null,
      "outputs": []
    },
    {
      "cell_type": "code",
      "metadata": {},
      "source": [
        "#| output: false\n",
        "# reshaping with melt and naming columns for clarity\n",
        "missing_summary = missing_summary.melt(\n",
        "    id_vars='dataset', var_name='dataset_columns', value_name='missing_count'\n",
        ").sort_values('dataset')\n",
        "missing_summary"
      ],
      "id": "40f71c8a",
      "execution_count": null,
      "outputs": []
    },
    {
      "cell_type": "code",
      "metadata": {},
      "source": [
        "#| output: false\n",
        "# bar chart for missing values\n",
        "fig = px.bar(\n",
        "    missing_summary,\n",
        "    x='dataset_columns',\n",
        "    y='missing_count',\n",
        "    color='dataset',\n",
        "    title='Missing Values per Column Across Datasets',\n",
        "    labels={'missing_count': 'Count of Missing Values', 'dataset_columns': 'Columns'},\n",
        "    barmode='group'\n",
        ")\n",
        "\n",
        "fig.show()"
      ],
      "id": "e5e2a391",
      "execution_count": null,
      "outputs": []
    },
    {
      "cell_type": "code",
      "metadata": {},
      "source": [
        "#| output: false\n",
        "# dropping missing value from dataset\n",
        "happiness_data_long.dropna(inplace=True)"
      ],
      "id": "a0ff434f",
      "execution_count": null,
      "outputs": []
    },
    {
      "cell_type": "code",
      "metadata": {},
      "source": [
        "#| output: false\n",
        "# function to check any persistent missing values\n",
        "def check_missing_data(df, name):\n",
        "    print(f\"Missing Data Summary for {name}:\")\n",
        "    print(df.isna().sum())\n",
        "    print(\"-\" * 40)\n",
        "\n",
        "# Check for missing values in each dataset\n",
        "check_missing_data(happiness_data_long, \"Happiness Data\")\n",
        "check_missing_data(internet_use_subset, \"Internet Use Data\")\n",
        "check_missing_data(suicide_rate_subset, \"Suicide Rate Data\")"
      ],
      "id": "e5c520b3",
      "execution_count": null,
      "outputs": []
    },
    {
      "cell_type": "code",
      "metadata": {},
      "source": [
        "#| output: false\n",
        "\n",
        "# unique number of countries in happiness dataset\n",
        "happy_countries = happiness_data_long[\"country\"].nunique()\n",
        "\n",
        "happy_countries"
      ],
      "id": "61cc9c25",
      "execution_count": null,
      "outputs": []
    },
    {
      "cell_type": "code",
      "metadata": {},
      "source": [
        "#| output: false\n",
        "# creating a pivoted version of the 'suicide_rate_subset' dataFrame \n",
        "# to analyze mortality rates by sex (Male, Female, Total)\n",
        "# without modifying the original 'suicide_rate_subset\n",
        "# pivoting the data so each sex becomes its own column\n",
        "suicide_rate_pivot = suicide_rate_subset.pivot_table(\n",
        "    index=['country', 'year'],\n",
        "    columns='sex',\n",
        "    values='mortality_count',\n",
        "    aggfunc='sum'  # Aggregate if duplicates exist\n",
        ").reset_index()\n",
        "\n",
        "# renaming the columns for clarity\n",
        "suicide_rate_pivot.columns.name = None  # removing column index name\n",
        "suicide_rate_pivot = suicide_rate_pivot.rename(columns={\n",
        "    'Male': 'mortality_male',\n",
        "    'Female': 'mortality_female',\n",
        "    'Total': 'mortality_total'\n",
        "})\n",
        "\n",
        "# cleaned dataset\n",
        "suicide_rate_pivot.head()"
      ],
      "id": "d75bb37a",
      "execution_count": null,
      "outputs": []
    },
    {
      "cell_type": "code",
      "metadata": {},
      "source": [
        "#| output: false\n",
        "# filtering to keep only the  rows with 'Total' values\n",
        "suicide_rate_filtered = suicide_rate_subset[suicide_rate_subset[\"sex\"] == \"Total\"]\n",
        "\n",
        "suicide_rate_filtered"
      ],
      "id": "b08e1ab2",
      "execution_count": null,
      "outputs": []
    },
    {
      "cell_type": "code",
      "metadata": {},
      "source": [
        "#| output: false\n",
        "# dropping the 'sex' column as it's no longer needed\n",
        "suicide_rate_filtered = suicide_rate_filtered.drop(columns=[\"sex\"]).sort_values([\"country\", \"year\"])\n",
        "\n",
        "suicide_rate_filtered.head()"
      ],
      "id": "3d5a3f8f",
      "execution_count": null,
      "outputs": []
    },
    {
      "cell_type": "code",
      "metadata": {},
      "source": [
        "#| output: false\n",
        "suicide_rate_filtered [\"country_code\"] = cc.convert(suicide_rate_filtered [\"country\"], to=\"ISO3\")\n",
        "\n",
        "# Verify the result\n",
        "print(suicide_rate_filtered .head())\n",
        "print(f\"New shape of the DataFrame: {suicide_rate_filtered.shape}\")"
      ],
      "id": "ff173002",
      "execution_count": null,
      "outputs": []
    },
    {
      "cell_type": "code",
      "metadata": {},
      "source": [
        "#| output: false\n",
        "print(happiness_data_long.shape)\n",
        "print(internet_use_subset.shape)\n",
        "print(suicide_rate_filtered.shape)\n",
        "print(suicide_rate_pivot.shape)"
      ],
      "id": "572a5706",
      "execution_count": null,
      "outputs": []
    },
    {
      "cell_type": "code",
      "metadata": {},
      "source": [
        "#| output: false\n",
        "# joining suicide_rate with happiness on 'country_code' and 'year'\n",
        "data_frames = [suicide_rate_filtered, \n",
        "    happiness_data_long, internet_use_subset]\n",
        "df_merged = reduce(lambda left, right: pd.merge(left, right,  on=['country_code','year'],\n",
        "    how='outer'), data_frames)\n",
        "\n",
        "# replacing missing values\n",
        "# replacing NaN with 'Unknown' for object (string) columns\n",
        "for col in df_merged.select_dtypes(include='object').columns:\n",
        "    df_merged[col].fillna('Unknown', inplace=True)\n",
        "\n",
        "# replacing NaN with -1 for numeric columns\n",
        "for col in df_merged.select_dtypes(include='number').columns:\n",
        "    df_merged[col].fillna(-1, inplace=True)\n",
        "\n",
        "df_merged.head(20)"
      ],
      "id": "175b1e32",
      "execution_count": null,
      "outputs": []
    },
    {
      "cell_type": "code",
      "metadata": {},
      "source": [
        "#| output: false\n",
        "# dropping unnecessary columns\n",
        "df_merged = df_merged.drop(columns=[\"country_x\", \"country\"])\n",
        "df_merged.rename(columns={\"country_y\": \"country\"}, inplace=True)\n",
        "df_merged.head(20)"
      ],
      "id": "bd8a3130",
      "execution_count": null,
      "outputs": []
    },
    {
      "cell_type": "code",
      "metadata": {},
      "source": [
        "#| output: false\n",
        "# rearranging columns to a more intuitive order\n",
        "column_order = ['country_code', 'country', 'year', 'percent_happiness', 'mortality_count', 'percent_internet_household']\n",
        "if set(column_order).issubset(df_merged.columns):\n",
        "    df_merged = df_merged[column_order]\n",
        "\n",
        "# Check the data types\n",
        "df_merged"
      ],
      "id": "eab76e0d",
      "execution_count": null,
      "outputs": []
    },
    {
      "cell_type": "code",
      "metadata": {},
      "source": [
        "#| output: false\n",
        "df_merged.to_csv('final_merged.csv', index=False)"
      ],
      "id": "c59f6811",
      "execution_count": null,
      "outputs": []
    },
    {
      "cell_type": "markdown",
      "metadata": {},
      "source": [
        "# Rising and Falling Joy: 5-Year Happiness Trends\n",
        "\n",
        "## {height = \"10%\"}\n"
      ],
      "id": "bbd00a46"
    },
    {
      "cell_type": "code",
      "metadata": {},
      "source": [
        "# 1. Global Average Happiness\n",
        "global_avg_happiness = happiness_data_long[\"percent_happiness\"].mean()\n",
        "print(f\"Global happiness averaged {global_avg_happiness:.1f}%.\")\n",
        "\n",
        "# 2. Happiest Year Globally\n",
        "happiest_year = (\n",
        "    happiness_data_long.groupby(\"year\")[\"percent_happiness\"].mean()\n",
        "    .idxmax()\n",
        ")\n",
        "happiest_year_avg = (\n",
        "    happiness_data_long.groupby(\"year\")[\"percent_happiness\"].mean()\n",
        "    .max()\n",
        ")\n",
        "print(f\"The happiest year globally was {happiest_year}, with an average happiness of {happiest_year_avg:.1f}%.\")\n",
        "\n",
        "# 3. Most Stable Performer\n",
        "country_variability = (\n",
        "    happiness_data_long.groupby(\"country\")[\"percent_happiness\"].std()\n",
        ")\n",
        "most_stable_country = country_variability.idxmin()\n",
        "least_variability = country_variability.min()\n",
        "print(f\"The most stable performer was {most_stable_country}, with a variability of ±{least_variability:.1f}%.\")\n",
        "\n",
        "# 4. Global Happiness Gap\n",
        "happiest_country_avg = (\n",
        "    happiness_data_long.groupby(\"country\")[\"percent_happiness\"].mean()\n",
        "    .max()\n",
        ")\n",
        "least_happy_country_avg = (\n",
        "    happiness_data_long.groupby(\"country\")[\"percent_happiness\"].mean()\n",
        "    .min()\n",
        ")\n",
        "happiness_gap = happiest_country_avg - least_happy_country_avg\n",
        "print(f\"The global happiness gap is {happiness_gap:.1f} percentage points.\")"
      ],
      "id": "a7a9f7ff",
      "execution_count": null,
      "outputs": []
    },
    {
      "cell_type": "markdown",
      "metadata": {},
      "source": [
        "::: {.valuebox title=\"Countries Analyzed\" color=\"#d4af37\"}\n",
        "`{python} happy_countries`\n",
        ":::\n",
        "\n",
        "::: {.valuebox title=\"Global Avg Happiness\" color=\"#d4af37\"}\n",
        "`{python} str(global_avg_happiness.round(1)`\n",
        ":::\n",
        "\n",
        "::: {.valuebox title=\"Happiest Year\" color=\"primary\"}\n",
        "`{python} str(happiest_year)`\n",
        ":::\n",
        "\n",
        "::: {.valuebox title=\"Happiest Country Avg\" color=\"primary\"}\n",
        "`{python} str(happiest_country_avg.round(1))`\n",
        ":::\n",
        "\n",
        "\n",
        "::: {.valuebox title=\"Happiness Gap\" color=\"primary\"}\n",
        "`{python} str(happiness_gap.round(1))`\n",
        ":::\n",
        "\n",
        "## Row {height=\"45%\"}\n",
        "\n",
        "::: {.card title=\"From Blue to Gold: Track of Global Happiness Among the Top 10 Countries\"}\n"
      ],
      "id": "b6ff92a0"
    },
    {
      "cell_type": "code",
      "metadata": {},
      "source": [
        "# Find the top 10 countries overall based on maximum percent_happiness\n",
        "top_countries_overall = df_merged.groupby(\"country\")[\"percent_happiness\"].max().nlargest(10).index\n",
        "\n",
        "# Filter the data to include only these countries across all years\n",
        "consistent_top_countries = df_merged[df_merged[\"country\"].isin(top_countries_overall)]\n",
        "\n",
        "# Create a bar chart\n",
        "fig = px.bar(\n",
        "    consistent_top_countries,\n",
        "    x=\"country\",\n",
        "    y=\"percent_happiness\",\n",
        "    color=\"year\",\n",
        "    labels={\"percent_happiness\": \"Percent Happiness\", \"country\": \"Country\"},\n",
        "    text=\"percent_happiness\"\n",
        ")\n",
        "\n",
        "fig.update_traces(texttemplate='%{text}', textposition='outside')\n",
        "fig.update_layout(\n",
        "    xaxis_title=\"Country\",\n",
        "    yaxis_title=\"Percent Happiness\",\n",
        "    showlegend=True\n",
        ")\n",
        "\n",
        "fig.show()\n",
        "\n",
        "\n",
        "# Calculate the highest scoring country and its score\n",
        "highest_country = consistent_top_countries.groupby(\"country\")[\"percent_happiness\"].max().idxmax()\n",
        "highest_score = consistent_top_countries.groupby(\"country\")[\"percent_happiness\"].max().max()\n",
        "\n",
        "# Calculate Canada's ranking\n",
        "country_scores = consistent_top_countries.groupby(\"country\")[\"percent_happiness\"].max()\n",
        "ranked_countries = country_scores.sort_values(ascending=False).reset_index()\n",
        "canada_rank = ranked_countries[ranked_countries[\"country\"] == \"Canada\"].index[0] + 1\n",
        "canada_score = country_scores[\"Canada\"]\n",
        "\n",
        "# Output in two sentences\n",
        "output = (\n",
        "    f\"For 5 Years Straight, {highest_country} Tops the Global Happiness Chart at {highest_score:.1f}% while Canada Proudly Ranks {canada_rank}th at {canada_score:.1f}%\"\n",
        ")\n",
        "print(output)"
      ],
      "id": "745fb8b1",
      "execution_count": null,
      "outputs": []
    },
    {
      "cell_type": "markdown",
      "metadata": {},
      "source": [
        ":::\n",
        "\n",
        "## Row  {.tabset height=\"45%\"}\n",
        "::: {.card title=\"Global Happiness Unveiled: 5-Year Journey of Growth, Crisis, and Decline\"}\n"
      ],
      "id": "8f597897"
    },
    {
      "cell_type": "code",
      "metadata": {},
      "source": [
        "#| label: Global Happiness Trend\n",
        "\n",
        "# Calculate global average happiness per year\n",
        "global_trends = happiness_data_long.groupby(\"year\")[\"percent_happiness\"].mean().reset_index()\n",
        "\n",
        "# Create a line chart\n",
        "line_fig = px.line(\n",
        "    global_trends,\n",
        "    x=\"year\",\n",
        "    y=\"percent_happiness\",\n",
        "    title=\"Global Average Happiness Trends (Yearly)\",\n",
        "    labels={\"percent_happiness\": \"Average Happiness (%)\", \"year\": \"Year\"},\n",
        "    markers=True\n",
        ")\n",
        "\n",
        "# Annotating key event: pandemic in 2020)\n",
        "line_fig.add_annotation(\n",
        "    x=2020,\n",
        "    y=global_trends.loc[global_trends[\"year\"] == 2020, \"percent_happiness\"].values[0],\n",
        "    text=\"Pandemic Impact\",\n",
        "    showarrow=True,\n",
        "    arrowhead=2,\n",
        "    ax=-40,\n",
        "    ay=-40\n",
        ")\n",
        "\n",
        "# Show the chart\n",
        "line_fig.show()"
      ],
      "id": "Global-Happiness-Trend",
      "execution_count": null,
      "outputs": []
    },
    {
      "cell_type": "markdown",
      "metadata": {},
      "source": [
        ":::\n",
        "\n",
        "::: {.card title=\"Insight\"}\n",
        "This line chart visualizes the global average happiness trend from 2017 to 2022. It shows a steady rise in happiness from 2017 to 2020, peaking during the pandemic year at 57.5%. While this might seem counterintuitive, it reflects resilience in high-ranking nations like Finland and Denmark, which helped maintain high global averages. After 2020, a noticeable decline highlights the longer-term impacts of the pandemic, economic challenges, and global uncertainty. This visual emphasizes how global averages can mask country-specific variations, making it essential to analyze individual trends for a deeper understanding.\n",
        ":::\n"
      ],
      "id": "93179616"
    }
  ],
  "metadata": {
    "kernelspec": {
      "name": "python3",
      "language": "python",
      "display_name": "Python 3 (ipykernel)",
      "path": "c:\\Users\\dataw\\OneDrive\\Documentos\\GitHub\\graph_courses_python_git\\.venv\\share\\jupyter\\kernels\\python3"
    }
  },
  "nbformat": 4,
  "nbformat_minor": 5
}