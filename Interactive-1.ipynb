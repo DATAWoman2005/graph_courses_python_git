{
 "cells": [
  {
   "cell_type": "markdown",
   "metadata": {},
   "source": [
    "Connected to .venv (Python 3.12.6)"
   ]
  },
  {
   "cell_type": "code",
   "execution_count": null,
   "id": "4cd0540a-adf2-4547-9c3c-31abe2f0f5f5",
   "metadata": {
    "vscode": {
     "languageId": "quarto"
    }
   },
   "outputs": [
    {
     "ename": "NameError",
     "evalue": "name 'suicide_rate_cleaned' is not defined",
     "output_type": "error",
     "traceback": [
      "\u001b[1;31m---------------------------------------------------------------------------\u001b[0m",
      "\u001b[1;31mNameError\u001b[0m                                 Traceback (most recent call last)",
      "File \u001b[1;32mc:\\Users\\dataw\\OneDrive\\Documentos\\GitHub\\graph_courses_python_git\\final_project.qmd:1\u001b[0m\n\u001b[1;32m----> 1\u001b[0m suicide_rate_cleaned\u001b[39m.\u001b[39mhead()\n",
      "\u001b[1;31mNameError\u001b[0m: name 'suicide_rate_cleaned' is not defined"
     ]
    }
   ],
   "source": [
    "suicide_rate_cleaned.head()"
   ]
  },
  {
   "cell_type": "code",
   "execution_count": null,
   "id": "3d65038c-2c00-42c8-9952-c09025fc2028",
   "metadata": {
    "vscode": {
     "languageId": "quarto"
    }
   },
   "outputs": [
    {
     "name": "stderr",
     "output_type": "stream",
     "text": [
      "<>:6: SyntaxWarning: invalid escape sequence '\\s'\n",
      "<>:21: SyntaxWarning: invalid escape sequence '\\h'\n",
      "<>:36: SyntaxWarning: invalid escape sequence '\\h'\n",
      "<>:6: SyntaxWarning: invalid escape sequence '\\s'\n",
      "<>:21: SyntaxWarning: invalid escape sequence '\\h'\n",
      "<>:36: SyntaxWarning: invalid escape sequence '\\h'\n",
      "<ipython-input-2-13c58daca212>:6: SyntaxWarning: invalid escape sequence '\\s'\n",
      "  suicide_rate = pd.read_csv(\"data\\suicide_rate_data.csv\")\n",
      "<ipython-input-2-13c58daca212>:21: SyntaxWarning: invalid escape sequence '\\h'\n",
      "  internet_use = pd.read_csv (\"data\\household_internet_use.csv\")\n",
      "<ipython-input-2-13c58daca212>:36: SyntaxWarning: invalid escape sequence '\\h'\n",
      "  happiness_data = pd.read_csv(\"data\\hapiscore_whr.csv\")\n"
     ]
    },
    {
     "name": "stdout",
     "output_type": "stream",
     "text": [
      "Data Types for Internet Use Subset:\n",
      "\n",
      "country                        object\n",
      "year                            int64\n",
      "percent_internet_household    float64\n",
      "dtype: object\n",
      "----------------------------------------\n",
      "Data Types for Suicide Rate Subset:\n",
      "\n",
      "country             object\n",
      "sex                 object\n",
      "year                 int64\n",
      "mortality_count    float64\n",
      "dtype: object\n",
      "----------------------------------------\n",
      "Data Types for Happiness Data Long:\n",
      "\n",
      "country             object\n",
      "year                object\n",
      "happiness_count    float64\n",
      "dtype: object\n",
      "----------------------------------------\n",
      "int64\n"
     ]
    },
    {
     "data": {
      "application/vnd.plotly.v1+json": {
       "config": {
        "plotlyServerURL": "https://plot.ly"
       },
       "data": [
        {
         "alignmentgroup": "True",
         "hovertemplate": "dataset=happiness_score<br>Columns=%{x}<br>Count of Missing Values=%{y}<extra></extra>",
         "legendgroup": "happiness_score",
         "marker": {
          "color": "#636efa",
          "pattern": {
           "shape": ""
          }
         },
         "name": "happiness_score",
         "offsetgroup": "happiness_score",
         "orientation": "v",
         "showlegend": true,
         "textposition": "auto",
         "type": "bar",
         "x": [
          "country",
          "year",
          "value_column"
         ],
         "xaxis": "x",
         "y": [
          0,
          0,
          220
         ],
         "yaxis": "y"
        },
        {
         "alignmentgroup": "True",
         "hovertemplate": "dataset=internet_use<br>Columns=%{x}<br>Count of Missing Values=%{y}<extra></extra>",
         "legendgroup": "internet_use",
         "marker": {
          "color": "#EF553B",
          "pattern": {
           "shape": ""
          }
         },
         "name": "internet_use",
         "offsetgroup": "internet_use",
         "orientation": "v",
         "showlegend": true,
         "textposition": "auto",
         "type": "bar",
         "x": [
          "country",
          "year",
          "value_column"
         ],
         "xaxis": "x",
         "y": [
          0,
          0,
          0
         ],
         "yaxis": "y"
        },
        {
         "alignmentgroup": "True",
         "hovertemplate": "dataset=suicide_rate<br>Columns=%{x}<br>Count of Missing Values=%{y}<extra></extra>",
         "legendgroup": "suicide_rate",
         "marker": {
          "color": "#00cc96",
          "pattern": {
           "shape": ""
          }
         },
         "name": "suicide_rate",
         "offsetgroup": "suicide_rate",
         "orientation": "v",
         "showlegend": true,
         "textposition": "auto",
         "type": "bar",
         "x": [
          "country",
          "year",
          "value_column"
         ],
         "xaxis": "x",
         "y": [
          0,
          0,
          0
         ],
         "yaxis": "y"
        }
       ],
       "layout": {
        "barmode": "group",
        "legend": {
         "title": {
          "text": "dataset"
         },
         "tracegroupgap": 0
        },
        "template": {
         "data": {
          "bar": [
           {
            "error_x": {
             "color": "#2a3f5f"
            },
            "error_y": {
             "color": "#2a3f5f"
            },
            "marker": {
             "line": {
              "color": "#E5ECF6",
              "width": 0.5
             },
             "pattern": {
              "fillmode": "overlay",
              "size": 10,
              "solidity": 0.2
             }
            },
            "type": "bar"
           }
          ],
          "barpolar": [
           {
            "marker": {
             "line": {
              "color": "#E5ECF6",
              "width": 0.5
             },
             "pattern": {
              "fillmode": "overlay",
              "size": 10,
              "solidity": 0.2
             }
            },
            "type": "barpolar"
           }
          ],
          "carpet": [
           {
            "aaxis": {
             "endlinecolor": "#2a3f5f",
             "gridcolor": "white",
             "linecolor": "white",
             "minorgridcolor": "white",
             "startlinecolor": "#2a3f5f"
            },
            "baxis": {
             "endlinecolor": "#2a3f5f",
             "gridcolor": "white",
             "linecolor": "white",
             "minorgridcolor": "white",
             "startlinecolor": "#2a3f5f"
            },
            "type": "carpet"
           }
          ],
          "choropleth": [
           {
            "colorbar": {
             "outlinewidth": 0,
             "ticks": ""
            },
            "type": "choropleth"
           }
          ],
          "contour": [
           {
            "colorbar": {
             "outlinewidth": 0,
             "ticks": ""
            },
            "colorscale": [
             [
              0,
              "#0d0887"
             ],
             [
              0.1111111111111111,
              "#46039f"
             ],
             [
              0.2222222222222222,
              "#7201a8"
             ],
             [
              0.3333333333333333,
              "#9c179e"
             ],
             [
              0.4444444444444444,
              "#bd3786"
             ],
             [
              0.5555555555555556,
              "#d8576b"
             ],
             [
              0.6666666666666666,
              "#ed7953"
             ],
             [
              0.7777777777777778,
              "#fb9f3a"
             ],
             [
              0.8888888888888888,
              "#fdca26"
             ],
             [
              1,
              "#f0f921"
             ]
            ],
            "type": "contour"
           }
          ],
          "contourcarpet": [
           {
            "colorbar": {
             "outlinewidth": 0,
             "ticks": ""
            },
            "type": "contourcarpet"
           }
          ],
          "heatmap": [
           {
            "colorbar": {
             "outlinewidth": 0,
             "ticks": ""
            },
            "colorscale": [
             [
              0,
              "#0d0887"
             ],
             [
              0.1111111111111111,
              "#46039f"
             ],
             [
              0.2222222222222222,
              "#7201a8"
             ],
             [
              0.3333333333333333,
              "#9c179e"
             ],
             [
              0.4444444444444444,
              "#bd3786"
             ],
             [
              0.5555555555555556,
              "#d8576b"
             ],
             [
              0.6666666666666666,
              "#ed7953"
             ],
             [
              0.7777777777777778,
              "#fb9f3a"
             ],
             [
              0.8888888888888888,
              "#fdca26"
             ],
             [
              1,
              "#f0f921"
             ]
            ],
            "type": "heatmap"
           }
          ],
          "heatmapgl": [
           {
            "colorbar": {
             "outlinewidth": 0,
             "ticks": ""
            },
            "colorscale": [
             [
              0,
              "#0d0887"
             ],
             [
              0.1111111111111111,
              "#46039f"
             ],
             [
              0.2222222222222222,
              "#7201a8"
             ],
             [
              0.3333333333333333,
              "#9c179e"
             ],
             [
              0.4444444444444444,
              "#bd3786"
             ],
             [
              0.5555555555555556,
              "#d8576b"
             ],
             [
              0.6666666666666666,
              "#ed7953"
             ],
             [
              0.7777777777777778,
              "#fb9f3a"
             ],
             [
              0.8888888888888888,
              "#fdca26"
             ],
             [
              1,
              "#f0f921"
             ]
            ],
            "type": "heatmapgl"
           }
          ],
          "histogram": [
           {
            "marker": {
             "pattern": {
              "fillmode": "overlay",
              "size": 10,
              "solidity": 0.2
             }
            },
            "type": "histogram"
           }
          ],
          "histogram2d": [
           {
            "colorbar": {
             "outlinewidth": 0,
             "ticks": ""
            },
            "colorscale": [
             [
              0,
              "#0d0887"
             ],
             [
              0.1111111111111111,
              "#46039f"
             ],
             [
              0.2222222222222222,
              "#7201a8"
             ],
             [
              0.3333333333333333,
              "#9c179e"
             ],
             [
              0.4444444444444444,
              "#bd3786"
             ],
             [
              0.5555555555555556,
              "#d8576b"
             ],
             [
              0.6666666666666666,
              "#ed7953"
             ],
             [
              0.7777777777777778,
              "#fb9f3a"
             ],
             [
              0.8888888888888888,
              "#fdca26"
             ],
             [
              1,
              "#f0f921"
             ]
            ],
            "type": "histogram2d"
           }
          ],
          "histogram2dcontour": [
           {
            "colorbar": {
             "outlinewidth": 0,
             "ticks": ""
            },
            "colorscale": [
             [
              0,
              "#0d0887"
             ],
             [
              0.1111111111111111,
              "#46039f"
             ],
             [
              0.2222222222222222,
              "#7201a8"
             ],
             [
              0.3333333333333333,
              "#9c179e"
             ],
             [
              0.4444444444444444,
              "#bd3786"
             ],
             [
              0.5555555555555556,
              "#d8576b"
             ],
             [
              0.6666666666666666,
              "#ed7953"
             ],
             [
              0.7777777777777778,
              "#fb9f3a"
             ],
             [
              0.8888888888888888,
              "#fdca26"
             ],
             [
              1,
              "#f0f921"
             ]
            ],
            "type": "histogram2dcontour"
           }
          ],
          "mesh3d": [
           {
            "colorbar": {
             "outlinewidth": 0,
             "ticks": ""
            },
            "type": "mesh3d"
           }
          ],
          "parcoords": [
           {
            "line": {
             "colorbar": {
              "outlinewidth": 0,
              "ticks": ""
             }
            },
            "type": "parcoords"
           }
          ],
          "pie": [
           {
            "automargin": true,
            "type": "pie"
           }
          ],
          "scatter": [
           {
            "fillpattern": {
             "fillmode": "overlay",
             "size": 10,
             "solidity": 0.2
            },
            "type": "scatter"
           }
          ],
          "scatter3d": [
           {
            "line": {
             "colorbar": {
              "outlinewidth": 0,
              "ticks": ""
             }
            },
            "marker": {
             "colorbar": {
              "outlinewidth": 0,
              "ticks": ""
             }
            },
            "type": "scatter3d"
           }
          ],
          "scattercarpet": [
           {
            "marker": {
             "colorbar": {
              "outlinewidth": 0,
              "ticks": ""
             }
            },
            "type": "scattercarpet"
           }
          ],
          "scattergeo": [
           {
            "marker": {
             "colorbar": {
              "outlinewidth": 0,
              "ticks": ""
             }
            },
            "type": "scattergeo"
           }
          ],
          "scattergl": [
           {
            "marker": {
             "colorbar": {
              "outlinewidth": 0,
              "ticks": ""
             }
            },
            "type": "scattergl"
           }
          ],
          "scattermapbox": [
           {
            "marker": {
             "colorbar": {
              "outlinewidth": 0,
              "ticks": ""
             }
            },
            "type": "scattermapbox"
           }
          ],
          "scatterpolar": [
           {
            "marker": {
             "colorbar": {
              "outlinewidth": 0,
              "ticks": ""
             }
            },
            "type": "scatterpolar"
           }
          ],
          "scatterpolargl": [
           {
            "marker": {
             "colorbar": {
              "outlinewidth": 0,
              "ticks": ""
             }
            },
            "type": "scatterpolargl"
           }
          ],
          "scatterternary": [
           {
            "marker": {
             "colorbar": {
              "outlinewidth": 0,
              "ticks": ""
             }
            },
            "type": "scatterternary"
           }
          ],
          "surface": [
           {
            "colorbar": {
             "outlinewidth": 0,
             "ticks": ""
            },
            "colorscale": [
             [
              0,
              "#0d0887"
             ],
             [
              0.1111111111111111,
              "#46039f"
             ],
             [
              0.2222222222222222,
              "#7201a8"
             ],
             [
              0.3333333333333333,
              "#9c179e"
             ],
             [
              0.4444444444444444,
              "#bd3786"
             ],
             [
              0.5555555555555556,
              "#d8576b"
             ],
             [
              0.6666666666666666,
              "#ed7953"
             ],
             [
              0.7777777777777778,
              "#fb9f3a"
             ],
             [
              0.8888888888888888,
              "#fdca26"
             ],
             [
              1,
              "#f0f921"
             ]
            ],
            "type": "surface"
           }
          ],
          "table": [
           {
            "cells": {
             "fill": {
              "color": "#EBF0F8"
             },
             "line": {
              "color": "white"
             }
            },
            "header": {
             "fill": {
              "color": "#C8D4E3"
             },
             "line": {
              "color": "white"
             }
            },
            "type": "table"
           }
          ]
         },
         "layout": {
          "annotationdefaults": {
           "arrowcolor": "#2a3f5f",
           "arrowhead": 0,
           "arrowwidth": 1
          },
          "autotypenumbers": "strict",
          "coloraxis": {
           "colorbar": {
            "outlinewidth": 0,
            "ticks": ""
           }
          },
          "colorscale": {
           "diverging": [
            [
             0,
             "#8e0152"
            ],
            [
             0.1,
             "#c51b7d"
            ],
            [
             0.2,
             "#de77ae"
            ],
            [
             0.3,
             "#f1b6da"
            ],
            [
             0.4,
             "#fde0ef"
            ],
            [
             0.5,
             "#f7f7f7"
            ],
            [
             0.6,
             "#e6f5d0"
            ],
            [
             0.7,
             "#b8e186"
            ],
            [
             0.8,
             "#7fbc41"
            ],
            [
             0.9,
             "#4d9221"
            ],
            [
             1,
             "#276419"
            ]
           ],
           "sequential": [
            [
             0,
             "#0d0887"
            ],
            [
             0.1111111111111111,
             "#46039f"
            ],
            [
             0.2222222222222222,
             "#7201a8"
            ],
            [
             0.3333333333333333,
             "#9c179e"
            ],
            [
             0.4444444444444444,
             "#bd3786"
            ],
            [
             0.5555555555555556,
             "#d8576b"
            ],
            [
             0.6666666666666666,
             "#ed7953"
            ],
            [
             0.7777777777777778,
             "#fb9f3a"
            ],
            [
             0.8888888888888888,
             "#fdca26"
            ],
            [
             1,
             "#f0f921"
            ]
           ],
           "sequentialminus": [
            [
             0,
             "#0d0887"
            ],
            [
             0.1111111111111111,
             "#46039f"
            ],
            [
             0.2222222222222222,
             "#7201a8"
            ],
            [
             0.3333333333333333,
             "#9c179e"
            ],
            [
             0.4444444444444444,
             "#bd3786"
            ],
            [
             0.5555555555555556,
             "#d8576b"
            ],
            [
             0.6666666666666666,
             "#ed7953"
            ],
            [
             0.7777777777777778,
             "#fb9f3a"
            ],
            [
             0.8888888888888888,
             "#fdca26"
            ],
            [
             1,
             "#f0f921"
            ]
           ]
          },
          "colorway": [
           "#636efa",
           "#EF553B",
           "#00cc96",
           "#ab63fa",
           "#FFA15A",
           "#19d3f3",
           "#FF6692",
           "#B6E880",
           "#FF97FF",
           "#FECB52"
          ],
          "font": {
           "color": "#2a3f5f"
          },
          "geo": {
           "bgcolor": "white",
           "lakecolor": "white",
           "landcolor": "#E5ECF6",
           "showlakes": true,
           "showland": true,
           "subunitcolor": "white"
          },
          "hoverlabel": {
           "align": "left"
          },
          "hovermode": "closest",
          "mapbox": {
           "style": "light"
          },
          "paper_bgcolor": "white",
          "plot_bgcolor": "#E5ECF6",
          "polar": {
           "angularaxis": {
            "gridcolor": "white",
            "linecolor": "white",
            "ticks": ""
           },
           "bgcolor": "#E5ECF6",
           "radialaxis": {
            "gridcolor": "white",
            "linecolor": "white",
            "ticks": ""
           }
          },
          "scene": {
           "xaxis": {
            "backgroundcolor": "#E5ECF6",
            "gridcolor": "white",
            "gridwidth": 2,
            "linecolor": "white",
            "showbackground": true,
            "ticks": "",
            "zerolinecolor": "white"
           },
           "yaxis": {
            "backgroundcolor": "#E5ECF6",
            "gridcolor": "white",
            "gridwidth": 2,
            "linecolor": "white",
            "showbackground": true,
            "ticks": "",
            "zerolinecolor": "white"
           },
           "zaxis": {
            "backgroundcolor": "#E5ECF6",
            "gridcolor": "white",
            "gridwidth": 2,
            "linecolor": "white",
            "showbackground": true,
            "ticks": "",
            "zerolinecolor": "white"
           }
          },
          "shapedefaults": {
           "line": {
            "color": "#2a3f5f"
           }
          },
          "ternary": {
           "aaxis": {
            "gridcolor": "white",
            "linecolor": "white",
            "ticks": ""
           },
           "baxis": {
            "gridcolor": "white",
            "linecolor": "white",
            "ticks": ""
           },
           "bgcolor": "#E5ECF6",
           "caxis": {
            "gridcolor": "white",
            "linecolor": "white",
            "ticks": ""
           }
          },
          "title": {
           "x": 0.05
          },
          "xaxis": {
           "automargin": true,
           "gridcolor": "white",
           "linecolor": "white",
           "ticks": "",
           "title": {
            "standoff": 15
           },
           "zerolinecolor": "white",
           "zerolinewidth": 2
          },
          "yaxis": {
           "automargin": true,
           "gridcolor": "white",
           "linecolor": "white",
           "ticks": "",
           "title": {
            "standoff": 15
           },
           "zerolinecolor": "white",
           "zerolinewidth": 2
          }
         }
        },
        "title": {
         "text": "Missing Values per Column Across Datasets"
        },
        "xaxis": {
         "anchor": "y",
         "domain": [
          0,
          1
         ],
         "title": {
          "text": "Columns"
         }
        },
        "yaxis": {
         "anchor": "x",
         "domain": [
          0,
          1
         ],
         "title": {
          "text": "Count of Missing Values"
         }
        }
       }
      }
     },
     "metadata": {},
     "output_type": "display_data"
    },
    {
     "name": "stdout",
     "output_type": "stream",
     "text": [
      "Missing Data Summary for Happiness Data:\n",
      "country            0\n",
      "year               0\n",
      "happiness_count    0\n",
      "dtype: int64\n",
      "----------------------------------------\n",
      "Missing Data Summary for Internet Use Data:\n",
      "country                       0\n",
      "year                          0\n",
      "percent_internet_household    0\n",
      "dtype: int64\n",
      "----------------------------------------\n",
      "Missing Data Summary for Suicide Rate Data:\n",
      "country            0\n",
      "sex                0\n",
      "year               0\n",
      "mortality_count    0\n",
      "dtype: int64\n",
      "----------------------------------------\n"
     ]
    },
    {
     "data": {
      "text/html": [
       "<div>\n",
       "<style scoped>\n",
       "    .dataframe tbody tr th:only-of-type {\n",
       "        vertical-align: middle;\n",
       "    }\n",
       "\n",
       "    .dataframe tbody tr th {\n",
       "        vertical-align: top;\n",
       "    }\n",
       "\n",
       "    .dataframe thead th {\n",
       "        text-align: right;\n",
       "    }\n",
       "</style>\n",
       "<table border=\"1\" class=\"dataframe\">\n",
       "  <thead>\n",
       "    <tr style=\"text-align: right;\">\n",
       "      <th></th>\n",
       "      <th>country</th>\n",
       "      <th>year</th>\n",
       "      <th>mortality_count</th>\n",
       "    </tr>\n",
       "  </thead>\n",
       "  <tbody>\n",
       "    <tr>\n",
       "      <th>0</th>\n",
       "      <td>Ireland</td>\n",
       "      <td>2016</td>\n",
       "      <td>9.4</td>\n",
       "    </tr>\n",
       "    <tr>\n",
       "      <th>1</th>\n",
       "      <td>Iceland</td>\n",
       "      <td>2017</td>\n",
       "      <td>17.9</td>\n",
       "    </tr>\n",
       "    <tr>\n",
       "      <th>2</th>\n",
       "      <td>South Africa</td>\n",
       "      <td>2016</td>\n",
       "      <td>0.3</td>\n",
       "    </tr>\n",
       "    <tr>\n",
       "      <th>3</th>\n",
       "      <td>South Africa</td>\n",
       "      <td>2017</td>\n",
       "      <td>0.3</td>\n",
       "    </tr>\n",
       "    <tr>\n",
       "      <th>4</th>\n",
       "      <td>Austria</td>\n",
       "      <td>2015</td>\n",
       "      <td>5.9</td>\n",
       "    </tr>\n",
       "  </tbody>\n",
       "</table>\n",
       "</div>"
      ],
      "text/plain": [
       "        country  year  mortality_count\n",
       "0       Ireland  2016              9.4\n",
       "1       Iceland  2017             17.9\n",
       "2  South Africa  2016              0.3\n",
       "3  South Africa  2017              0.3\n",
       "4       Austria  2015              5.9"
      ]
     },
     "execution_count": 2,
     "metadata": {},
     "output_type": "execute_result"
    }
   ],
   "source": [
    "import pandas as pd\n",
    "import plotly.express as px\n",
    "import itables \n",
    "\n",
    "# Load suicide_rate data\n",
    "suicide_rate = pd.read_csv(\"data\\suicide_rate_data.csv\")\n",
    "\n",
    "suicide_rate\n",
    "\n",
    "# selecting applicable columns\n",
    "suicide_rate_subset = suicide_rate [[\"Reference area\", \"Sex\", \"TIME_PERIOD\", \"OBS_VALUE\"]]\n",
    "\n",
    "suicide_rate_subset\n",
    "\n",
    "# changing to representative column names\n",
    "suicide_rate_subset = suicide_rate_subset.rename(columns={\"Reference area\": \"country\", \"Sex\": \"sex\", \"TIME_PERIOD\": \"year\", \"OBS_VALUE\": \"mortality_count\"})\n",
    "\n",
    "suicide_rate_subset\n",
    "\n",
    "# internet_use data\n",
    "internet_use = pd.read_csv (\"data\\household_internet_use.csv\")\n",
    "\n",
    "internet_use \n",
    "\n",
    "# selecting applicable columns\n",
    "internet_use_subset = internet_use[[\"Reference area\", \"TIME_PERIOD\", \"OBS_VALUE\"]]\n",
    "\n",
    "internet_use_subset\n",
    "\n",
    "# changing to representative column names\n",
    "internet_use_subset = internet_use_subset.rename(columns={\"Reference area\": \"country\", \"TIME_PERIOD\": \"year\", \"OBS_VALUE\": \"percent_internet_household\"})\n",
    "\n",
    "internet_use_subset\n",
    "\n",
    "# Load happiness_score data\n",
    "happiness_data = pd.read_csv(\"data\\hapiscore_whr.csv\")\n",
    "happiness_data\n",
    "\n",
    "# changing dataset to a long format\n",
    "happiness_data_long = happiness_data.melt(id_vars=\"country\")\n",
    "happiness_data_long\n",
    "\n",
    "# changing to representative column names\n",
    "happiness_data_long = happiness_data.melt(id_vars=\"country\", var_name=\"year\", value_name = \"happiness_count\").sort_values([\"country\", \"year\"])\n",
    "\n",
    "happiness_data_long\n",
    "\n",
    "# Function to check data types \n",
    "\n",
    "def check_data_types(df, name):\n",
    "    print(f\"Data Types for {name}:\\n\")\n",
    "    print(df.dtypes)\n",
    "    print(\"-\" * 40)  # Separator for clarity\n",
    "\n",
    "# checks data types for all three datasets\n",
    "check_data_types(internet_use_subset, \"Internet Use Subset\")\n",
    "check_data_types(suicide_rate_subset, \"Suicide Rate Subset\")\n",
    "check_data_types(happiness_data_long, \"Happiness Data Long\")\n",
    "\n",
    "\n",
    "# converting the 'year' column to integer type, and coercing errors to NaN\n",
    "happiness_data_long['year'] = pd.to_numeric(happiness_data_long['year'], errors='coerce')\n",
    "\n",
    "# Confirm the conversion\n",
    "print(happiness_data_long['year'].dtype)\n",
    "\n",
    "\n",
    "# filtering for year 2015 to 2022\n",
    "happiness_data_long = happiness_data_long[\n",
    "    (happiness_data_long['year'] >= 2015) & (happiness_data_long['year'] <= 2022)\n",
    "]\n",
    "happiness_data_long = happiness_data_long[\n",
    "    (happiness_data_long['year'] >= 2015) & (happiness_data_long['year'] <= 2022)\n",
    "]\n",
    "\n",
    "# Check the result\n",
    "happiness_data_long['year'].unique()\n",
    "\n",
    "#calculating missing values for each dataset\n",
    "happiness_missing = happiness_data_long.isna().sum()\n",
    "internet_missing = internet_use_subset.isna().sum()\n",
    "suicide_missing = suicide_rate_subset.isna().sum()\n",
    "\n",
    "\n",
    "# combining the results into a single DataFrame\n",
    "missing_summary = pd.DataFrame({\n",
    "   'dataset': ['happiness_score', 'internet_use', 'suicide_rate'],\n",
    "   'country': [happiness_missing['country'], internet_missing['country'], suicide_missing['country']],\n",
    "   'year': [happiness_missing['year'], internet_missing['year'], suicide_missing['year']],\n",
    "   'value_column': [happiness_missing['happiness_count'], internet_missing['percent_internet_household'], suicide_missing['mortality_count']]\n",
    "})\n",
    "\n",
    "missing_summary                      \n",
    "\n",
    "# reshaping with melt and naming columns for clarity\n",
    "missing_summary = missing_summary.melt(\n",
    "    id_vars='dataset', var_name='dataset_columns', value_name='missing_count'\n",
    ").sort_values('dataset')\n",
    "missing_summary\n",
    "\n",
    "# bar chart for missing values\n",
    "fig = px.bar(\n",
    "    missing_summary,\n",
    "    x='dataset_columns',\n",
    "    y='missing_count',\n",
    "    color='dataset',\n",
    "    title='Missing Values per Column Across Datasets',\n",
    "    labels={'missing_count': 'Count of Missing Values', 'dataset_columns': 'Columns'},\n",
    "    barmode='group'\n",
    ")\n",
    "\n",
    "fig.show()\n",
    "\n",
    "# dropping missing value from dataset\n",
    "happiness_data_long.dropna(inplace=True)\n",
    "\n",
    "\n",
    "# function to check any persistent missing values\n",
    "def check_missing_data(df, name):\n",
    "    print(f\"Missing Data Summary for {name}:\")\n",
    "    print(df.isna().sum())\n",
    "    print(\"-\" * 40)\n",
    "\n",
    "# Check for missing values in each dataset\n",
    "check_missing_data(happiness_data_long, \"Happiness Data\")\n",
    "check_missing_data(internet_use_subset, \"Internet Use Data\")\n",
    "check_missing_data(suicide_rate_subset, \"Suicide Rate Data\")\n",
    "\n",
    "\n",
    "# rounding to 1 decimal for consistency with other datasets\n",
    "internet_use_subset[\"percent_internet_household\"] = internet_use_subset[\"percent_internet_household\"].round(1)\n",
    "\n",
    "internet_use_subset\n",
    "\n",
    "# creating a pivoted version of the 'suicide_rate_subset' DataFrame \n",
    "# to analyze mortality rates by sex (Male, Female, Total)\n",
    "# without modifying the original 'suicide_rate_subset\n",
    "# pivoting the data so each sex becomes its own column\n",
    "suicide_rate_pivot = suicide_rate_subset.pivot_table(\n",
    "    index=['country', 'year'],\n",
    "    columns='sex',\n",
    "    values='mortality_count',\n",
    "    aggfunc='sum'  # Aggregate if duplicates exist\n",
    ").reset_index()\n",
    "\n",
    "# renaming the columns for clarity\n",
    "suicide_rate_pivot.columns.name = None  # removing column index name\n",
    "suicide_rate_pivot = suicide_rate_pivot.rename(columns={\n",
    "    'Male': 'mortality_male',\n",
    "    'Female': 'mortality_female',\n",
    "    'Total': 'mortality_total'\n",
    "})\n",
    "\n",
    "# cleaned dataset\n",
    "suicide_rate_pivot.head()\n",
    "\n",
    "# droping the 'sex' column from the suicide_rate_subset\n",
    "suicide_rate_cleaned = suicide_rate_subset.drop(columns=['sex'])\n",
    "\n",
    "suicide_rate_cleaned.head()"
   ]
  },
  {
   "cell_type": "code",
   "execution_count": null,
   "id": "ceaba5fc-e84b-4633-acee-0aeade75f638",
   "metadata": {
    "vscode": {
     "languageId": "quarto"
    }
   },
   "outputs": [
    {
     "ename": "SyntaxError",
     "evalue": "unmatched ')' (<ipython-input-3-d5932b185ff4>, line 1)",
     "output_type": "error",
     "traceback": [
      "\u001b[1;36m  Cell \u001b[1;32mIn[3], line 1\u001b[1;36m\u001b[0m\n\u001b[1;33m    happy = set(happiness_data_long[]\"country\").unique())\u001b[0m\n\u001b[1;37m                                                        ^\u001b[0m\n\u001b[1;31mSyntaxError\u001b[0m\u001b[1;31m:\u001b[0m unmatched ')'\n"
     ]
    }
   ],
   "source": [
    "happy = set(happiness_data_long[]\"country\").unique())\n",
    "sad = set(suicide_rate_cleaned[\"country\"].unique())"
   ]
  },
  {
   "cell_type": "code",
   "execution_count": null,
   "id": "bf9d37ce-1057-4049-8d39-6dc97068dc20",
   "metadata": {
    "vscode": {
     "languageId": "quarto"
    }
   },
   "outputs": [
    {
     "ename": "SyntaxError",
     "evalue": "unmatched ')' (<ipython-input-4-7e7418387339>, line 1)",
     "output_type": "error",
     "traceback": [
      "\u001b[1;36m  Cell \u001b[1;32mIn[4], line 1\u001b[1;36m\u001b[0m\n\u001b[1;33m    happy = set(happiness_data_long[\"country\"]).unique())\u001b[0m\n\u001b[1;37m                                                        ^\u001b[0m\n\u001b[1;31mSyntaxError\u001b[0m\u001b[1;31m:\u001b[0m unmatched ')'\n"
     ]
    }
   ],
   "source": [
    "happy = set(happiness_data_long[\"country\"]).unique())\n",
    "sad = set(suicide_rate_cleaned[\"country\"].unique())"
   ]
  },
  {
   "cell_type": "code",
   "execution_count": null,
   "id": "f6a2db5f-47c3-4d35-bc9b-aad9d7a5a4d7",
   "metadata": {
    "vscode": {
     "languageId": "quarto"
    }
   },
   "outputs": [],
   "source": [
    "happy = set(happiness_data_long[\"country\"].unique())\n",
    "sad = set(suicide_rate_cleaned[\"country\"].unique())"
   ]
  },
  {
   "cell_type": "code",
   "execution_count": null,
   "id": "9087cbee-d008-4f99-be11-2f85654e5f62",
   "metadata": {
    "vscode": {
     "languageId": "quarto"
    }
   },
   "outputs": [
    {
     "name": "stdout",
     "output_type": "stream",
     "text": [
      "Data Types for Internet Use Subset:\n",
      "\n",
      "country                        object\n",
      "year                            int64\n",
      "percent_internet_household    float64\n",
      "dtype: object\n",
      "----------------------------------------\n",
      "Data Types for Suicide Rate Subset:\n",
      "\n",
      "country             object\n",
      "sex                 object\n",
      "year                 int64\n",
      "mortality_count    float64\n",
      "dtype: object\n",
      "----------------------------------------\n",
      "Data Types for Happiness Data Long:\n",
      "\n",
      "country             object\n",
      "year                object\n",
      "happiness_count    float64\n",
      "dtype: object\n",
      "----------------------------------------\n",
      "int64\n"
     ]
    },
    {
     "name": "stderr",
     "output_type": "stream",
     "text": [
      "<>:6: SyntaxWarning:\n",
      "\n",
      "invalid escape sequence '\\s'\n",
      "\n",
      "<>:21: SyntaxWarning:\n",
      "\n",
      "invalid escape sequence '\\h'\n",
      "\n",
      "<>:36: SyntaxWarning:\n",
      "\n",
      "invalid escape sequence '\\h'\n",
      "\n",
      "<>:6: SyntaxWarning:\n",
      "\n",
      "invalid escape sequence '\\s'\n",
      "\n",
      "<>:21: SyntaxWarning:\n",
      "\n",
      "invalid escape sequence '\\h'\n",
      "\n",
      "<>:36: SyntaxWarning:\n",
      "\n",
      "invalid escape sequence '\\h'\n",
      "\n",
      "<ipython-input-7-92e32146cf49>:6: SyntaxWarning:\n",
      "\n",
      "invalid escape sequence '\\s'\n",
      "\n",
      "<ipython-input-7-92e32146cf49>:21: SyntaxWarning:\n",
      "\n",
      "invalid escape sequence '\\h'\n",
      "\n",
      "<ipython-input-7-92e32146cf49>:36: SyntaxWarning:\n",
      "\n",
      "invalid escape sequence '\\h'\n",
      "\n"
     ]
    },
    {
     "data": {
      "application/vnd.plotly.v1+json": {
       "config": {
        "plotlyServerURL": "https://plot.ly"
       },
       "data": [
        {
         "alignmentgroup": "True",
         "hovertemplate": "dataset=happiness_score<br>Columns=%{x}<br>Count of Missing Values=%{y}<extra></extra>",
         "legendgroup": "happiness_score",
         "marker": {
          "color": "#636efa",
          "pattern": {
           "shape": ""
          }
         },
         "name": "happiness_score",
         "offsetgroup": "happiness_score",
         "orientation": "v",
         "showlegend": true,
         "textposition": "auto",
         "type": "bar",
         "x": [
          "country",
          "year",
          "value_column"
         ],
         "xaxis": "x",
         "y": [
          0,
          0,
          220
         ],
         "yaxis": "y"
        },
        {
         "alignmentgroup": "True",
         "hovertemplate": "dataset=internet_use<br>Columns=%{x}<br>Count of Missing Values=%{y}<extra></extra>",
         "legendgroup": "internet_use",
         "marker": {
          "color": "#EF553B",
          "pattern": {
           "shape": ""
          }
         },
         "name": "internet_use",
         "offsetgroup": "internet_use",
         "orientation": "v",
         "showlegend": true,
         "textposition": "auto",
         "type": "bar",
         "x": [
          "country",
          "year",
          "value_column"
         ],
         "xaxis": "x",
         "y": [
          0,
          0,
          0
         ],
         "yaxis": "y"
        },
        {
         "alignmentgroup": "True",
         "hovertemplate": "dataset=suicide_rate<br>Columns=%{x}<br>Count of Missing Values=%{y}<extra></extra>",
         "legendgroup": "suicide_rate",
         "marker": {
          "color": "#00cc96",
          "pattern": {
           "shape": ""
          }
         },
         "name": "suicide_rate",
         "offsetgroup": "suicide_rate",
         "orientation": "v",
         "showlegend": true,
         "textposition": "auto",
         "type": "bar",
         "x": [
          "country",
          "year",
          "value_column"
         ],
         "xaxis": "x",
         "y": [
          0,
          0,
          0
         ],
         "yaxis": "y"
        }
       ],
       "layout": {
        "barmode": "group",
        "legend": {
         "title": {
          "text": "dataset"
         },
         "tracegroupgap": 0
        },
        "template": {
         "data": {
          "bar": [
           {
            "error_x": {
             "color": "#2a3f5f"
            },
            "error_y": {
             "color": "#2a3f5f"
            },
            "marker": {
             "line": {
              "color": "#E5ECF6",
              "width": 0.5
             },
             "pattern": {
              "fillmode": "overlay",
              "size": 10,
              "solidity": 0.2
             }
            },
            "type": "bar"
           }
          ],
          "barpolar": [
           {
            "marker": {
             "line": {
              "color": "#E5ECF6",
              "width": 0.5
             },
             "pattern": {
              "fillmode": "overlay",
              "size": 10,
              "solidity": 0.2
             }
            },
            "type": "barpolar"
           }
          ],
          "carpet": [
           {
            "aaxis": {
             "endlinecolor": "#2a3f5f",
             "gridcolor": "white",
             "linecolor": "white",
             "minorgridcolor": "white",
             "startlinecolor": "#2a3f5f"
            },
            "baxis": {
             "endlinecolor": "#2a3f5f",
             "gridcolor": "white",
             "linecolor": "white",
             "minorgridcolor": "white",
             "startlinecolor": "#2a3f5f"
            },
            "type": "carpet"
           }
          ],
          "choropleth": [
           {
            "colorbar": {
             "outlinewidth": 0,
             "ticks": ""
            },
            "type": "choropleth"
           }
          ],
          "contour": [
           {
            "colorbar": {
             "outlinewidth": 0,
             "ticks": ""
            },
            "colorscale": [
             [
              0,
              "#0d0887"
             ],
             [
              0.1111111111111111,
              "#46039f"
             ],
             [
              0.2222222222222222,
              "#7201a8"
             ],
             [
              0.3333333333333333,
              "#9c179e"
             ],
             [
              0.4444444444444444,
              "#bd3786"
             ],
             [
              0.5555555555555556,
              "#d8576b"
             ],
             [
              0.6666666666666666,
              "#ed7953"
             ],
             [
              0.7777777777777778,
              "#fb9f3a"
             ],
             [
              0.8888888888888888,
              "#fdca26"
             ],
             [
              1,
              "#f0f921"
             ]
            ],
            "type": "contour"
           }
          ],
          "contourcarpet": [
           {
            "colorbar": {
             "outlinewidth": 0,
             "ticks": ""
            },
            "type": "contourcarpet"
           }
          ],
          "heatmap": [
           {
            "colorbar": {
             "outlinewidth": 0,
             "ticks": ""
            },
            "colorscale": [
             [
              0,
              "#0d0887"
             ],
             [
              0.1111111111111111,
              "#46039f"
             ],
             [
              0.2222222222222222,
              "#7201a8"
             ],
             [
              0.3333333333333333,
              "#9c179e"
             ],
             [
              0.4444444444444444,
              "#bd3786"
             ],
             [
              0.5555555555555556,
              "#d8576b"
             ],
             [
              0.6666666666666666,
              "#ed7953"
             ],
             [
              0.7777777777777778,
              "#fb9f3a"
             ],
             [
              0.8888888888888888,
              "#fdca26"
             ],
             [
              1,
              "#f0f921"
             ]
            ],
            "type": "heatmap"
           }
          ],
          "heatmapgl": [
           {
            "colorbar": {
             "outlinewidth": 0,
             "ticks": ""
            },
            "colorscale": [
             [
              0,
              "#0d0887"
             ],
             [
              0.1111111111111111,
              "#46039f"
             ],
             [
              0.2222222222222222,
              "#7201a8"
             ],
             [
              0.3333333333333333,
              "#9c179e"
             ],
             [
              0.4444444444444444,
              "#bd3786"
             ],
             [
              0.5555555555555556,
              "#d8576b"
             ],
             [
              0.6666666666666666,
              "#ed7953"
             ],
             [
              0.7777777777777778,
              "#fb9f3a"
             ],
             [
              0.8888888888888888,
              "#fdca26"
             ],
             [
              1,
              "#f0f921"
             ]
            ],
            "type": "heatmapgl"
           }
          ],
          "histogram": [
           {
            "marker": {
             "pattern": {
              "fillmode": "overlay",
              "size": 10,
              "solidity": 0.2
             }
            },
            "type": "histogram"
           }
          ],
          "histogram2d": [
           {
            "colorbar": {
             "outlinewidth": 0,
             "ticks": ""
            },
            "colorscale": [
             [
              0,
              "#0d0887"
             ],
             [
              0.1111111111111111,
              "#46039f"
             ],
             [
              0.2222222222222222,
              "#7201a8"
             ],
             [
              0.3333333333333333,
              "#9c179e"
             ],
             [
              0.4444444444444444,
              "#bd3786"
             ],
             [
              0.5555555555555556,
              "#d8576b"
             ],
             [
              0.6666666666666666,
              "#ed7953"
             ],
             [
              0.7777777777777778,
              "#fb9f3a"
             ],
             [
              0.8888888888888888,
              "#fdca26"
             ],
             [
              1,
              "#f0f921"
             ]
            ],
            "type": "histogram2d"
           }
          ],
          "histogram2dcontour": [
           {
            "colorbar": {
             "outlinewidth": 0,
             "ticks": ""
            },
            "colorscale": [
             [
              0,
              "#0d0887"
             ],
             [
              0.1111111111111111,
              "#46039f"
             ],
             [
              0.2222222222222222,
              "#7201a8"
             ],
             [
              0.3333333333333333,
              "#9c179e"
             ],
             [
              0.4444444444444444,
              "#bd3786"
             ],
             [
              0.5555555555555556,
              "#d8576b"
             ],
             [
              0.6666666666666666,
              "#ed7953"
             ],
             [
              0.7777777777777778,
              "#fb9f3a"
             ],
             [
              0.8888888888888888,
              "#fdca26"
             ],
             [
              1,
              "#f0f921"
             ]
            ],
            "type": "histogram2dcontour"
           }
          ],
          "mesh3d": [
           {
            "colorbar": {
             "outlinewidth": 0,
             "ticks": ""
            },
            "type": "mesh3d"
           }
          ],
          "parcoords": [
           {
            "line": {
             "colorbar": {
              "outlinewidth": 0,
              "ticks": ""
             }
            },
            "type": "parcoords"
           }
          ],
          "pie": [
           {
            "automargin": true,
            "type": "pie"
           }
          ],
          "scatter": [
           {
            "fillpattern": {
             "fillmode": "overlay",
             "size": 10,
             "solidity": 0.2
            },
            "type": "scatter"
           }
          ],
          "scatter3d": [
           {
            "line": {
             "colorbar": {
              "outlinewidth": 0,
              "ticks": ""
             }
            },
            "marker": {
             "colorbar": {
              "outlinewidth": 0,
              "ticks": ""
             }
            },
            "type": "scatter3d"
           }
          ],
          "scattercarpet": [
           {
            "marker": {
             "colorbar": {
              "outlinewidth": 0,
              "ticks": ""
             }
            },
            "type": "scattercarpet"
           }
          ],
          "scattergeo": [
           {
            "marker": {
             "colorbar": {
              "outlinewidth": 0,
              "ticks": ""
             }
            },
            "type": "scattergeo"
           }
          ],
          "scattergl": [
           {
            "marker": {
             "colorbar": {
              "outlinewidth": 0,
              "ticks": ""
             }
            },
            "type": "scattergl"
           }
          ],
          "scattermapbox": [
           {
            "marker": {
             "colorbar": {
              "outlinewidth": 0,
              "ticks": ""
             }
            },
            "type": "scattermapbox"
           }
          ],
          "scatterpolar": [
           {
            "marker": {
             "colorbar": {
              "outlinewidth": 0,
              "ticks": ""
             }
            },
            "type": "scatterpolar"
           }
          ],
          "scatterpolargl": [
           {
            "marker": {
             "colorbar": {
              "outlinewidth": 0,
              "ticks": ""
             }
            },
            "type": "scatterpolargl"
           }
          ],
          "scatterternary": [
           {
            "marker": {
             "colorbar": {
              "outlinewidth": 0,
              "ticks": ""
             }
            },
            "type": "scatterternary"
           }
          ],
          "surface": [
           {
            "colorbar": {
             "outlinewidth": 0,
             "ticks": ""
            },
            "colorscale": [
             [
              0,
              "#0d0887"
             ],
             [
              0.1111111111111111,
              "#46039f"
             ],
             [
              0.2222222222222222,
              "#7201a8"
             ],
             [
              0.3333333333333333,
              "#9c179e"
             ],
             [
              0.4444444444444444,
              "#bd3786"
             ],
             [
              0.5555555555555556,
              "#d8576b"
             ],
             [
              0.6666666666666666,
              "#ed7953"
             ],
             [
              0.7777777777777778,
              "#fb9f3a"
             ],
             [
              0.8888888888888888,
              "#fdca26"
             ],
             [
              1,
              "#f0f921"
             ]
            ],
            "type": "surface"
           }
          ],
          "table": [
           {
            "cells": {
             "fill": {
              "color": "#EBF0F8"
             },
             "line": {
              "color": "white"
             }
            },
            "header": {
             "fill": {
              "color": "#C8D4E3"
             },
             "line": {
              "color": "white"
             }
            },
            "type": "table"
           }
          ]
         },
         "layout": {
          "annotationdefaults": {
           "arrowcolor": "#2a3f5f",
           "arrowhead": 0,
           "arrowwidth": 1
          },
          "autotypenumbers": "strict",
          "coloraxis": {
           "colorbar": {
            "outlinewidth": 0,
            "ticks": ""
           }
          },
          "colorscale": {
           "diverging": [
            [
             0,
             "#8e0152"
            ],
            [
             0.1,
             "#c51b7d"
            ],
            [
             0.2,
             "#de77ae"
            ],
            [
             0.3,
             "#f1b6da"
            ],
            [
             0.4,
             "#fde0ef"
            ],
            [
             0.5,
             "#f7f7f7"
            ],
            [
             0.6,
             "#e6f5d0"
            ],
            [
             0.7,
             "#b8e186"
            ],
            [
             0.8,
             "#7fbc41"
            ],
            [
             0.9,
             "#4d9221"
            ],
            [
             1,
             "#276419"
            ]
           ],
           "sequential": [
            [
             0,
             "#0d0887"
            ],
            [
             0.1111111111111111,
             "#46039f"
            ],
            [
             0.2222222222222222,
             "#7201a8"
            ],
            [
             0.3333333333333333,
             "#9c179e"
            ],
            [
             0.4444444444444444,
             "#bd3786"
            ],
            [
             0.5555555555555556,
             "#d8576b"
            ],
            [
             0.6666666666666666,
             "#ed7953"
            ],
            [
             0.7777777777777778,
             "#fb9f3a"
            ],
            [
             0.8888888888888888,
             "#fdca26"
            ],
            [
             1,
             "#f0f921"
            ]
           ],
           "sequentialminus": [
            [
             0,
             "#0d0887"
            ],
            [
             0.1111111111111111,
             "#46039f"
            ],
            [
             0.2222222222222222,
             "#7201a8"
            ],
            [
             0.3333333333333333,
             "#9c179e"
            ],
            [
             0.4444444444444444,
             "#bd3786"
            ],
            [
             0.5555555555555556,
             "#d8576b"
            ],
            [
             0.6666666666666666,
             "#ed7953"
            ],
            [
             0.7777777777777778,
             "#fb9f3a"
            ],
            [
             0.8888888888888888,
             "#fdca26"
            ],
            [
             1,
             "#f0f921"
            ]
           ]
          },
          "colorway": [
           "#636efa",
           "#EF553B",
           "#00cc96",
           "#ab63fa",
           "#FFA15A",
           "#19d3f3",
           "#FF6692",
           "#B6E880",
           "#FF97FF",
           "#FECB52"
          ],
          "font": {
           "color": "#2a3f5f"
          },
          "geo": {
           "bgcolor": "white",
           "lakecolor": "white",
           "landcolor": "#E5ECF6",
           "showlakes": true,
           "showland": true,
           "subunitcolor": "white"
          },
          "hoverlabel": {
           "align": "left"
          },
          "hovermode": "closest",
          "mapbox": {
           "style": "light"
          },
          "paper_bgcolor": "white",
          "plot_bgcolor": "#E5ECF6",
          "polar": {
           "angularaxis": {
            "gridcolor": "white",
            "linecolor": "white",
            "ticks": ""
           },
           "bgcolor": "#E5ECF6",
           "radialaxis": {
            "gridcolor": "white",
            "linecolor": "white",
            "ticks": ""
           }
          },
          "scene": {
           "xaxis": {
            "backgroundcolor": "#E5ECF6",
            "gridcolor": "white",
            "gridwidth": 2,
            "linecolor": "white",
            "showbackground": true,
            "ticks": "",
            "zerolinecolor": "white"
           },
           "yaxis": {
            "backgroundcolor": "#E5ECF6",
            "gridcolor": "white",
            "gridwidth": 2,
            "linecolor": "white",
            "showbackground": true,
            "ticks": "",
            "zerolinecolor": "white"
           },
           "zaxis": {
            "backgroundcolor": "#E5ECF6",
            "gridcolor": "white",
            "gridwidth": 2,
            "linecolor": "white",
            "showbackground": true,
            "ticks": "",
            "zerolinecolor": "white"
           }
          },
          "shapedefaults": {
           "line": {
            "color": "#2a3f5f"
           }
          },
          "ternary": {
           "aaxis": {
            "gridcolor": "white",
            "linecolor": "white",
            "ticks": ""
           },
           "baxis": {
            "gridcolor": "white",
            "linecolor": "white",
            "ticks": ""
           },
           "bgcolor": "#E5ECF6",
           "caxis": {
            "gridcolor": "white",
            "linecolor": "white",
            "ticks": ""
           }
          },
          "title": {
           "x": 0.05
          },
          "xaxis": {
           "automargin": true,
           "gridcolor": "white",
           "linecolor": "white",
           "ticks": "",
           "title": {
            "standoff": 15
           },
           "zerolinecolor": "white",
           "zerolinewidth": 2
          },
          "yaxis": {
           "automargin": true,
           "gridcolor": "white",
           "linecolor": "white",
           "ticks": "",
           "title": {
            "standoff": 15
           },
           "zerolinecolor": "white",
           "zerolinewidth": 2
          }
         }
        },
        "title": {
         "text": "Missing Values per Column Across Datasets"
        },
        "xaxis": {
         "anchor": "y",
         "domain": [
          0,
          1
         ],
         "title": {
          "text": "Columns"
         }
        },
        "yaxis": {
         "anchor": "x",
         "domain": [
          0,
          1
         ],
         "title": {
          "text": "Count of Missing Values"
         }
        }
       }
      }
     },
     "metadata": {},
     "output_type": "display_data"
    },
    {
     "name": "stdout",
     "output_type": "stream",
     "text": [
      "Missing Data Summary for Happiness Data:\n",
      "country            0\n",
      "year               0\n",
      "happiness_count    0\n",
      "dtype: int64\n",
      "----------------------------------------\n",
      "Missing Data Summary for Internet Use Data:\n",
      "country                       0\n",
      "year                          0\n",
      "percent_internet_household    0\n",
      "dtype: int64\n",
      "----------------------------------------\n",
      "Missing Data Summary for Suicide Rate Data:\n",
      "country            0\n",
      "sex                0\n",
      "year               0\n",
      "mortality_count    0\n",
      "dtype: int64\n",
      "----------------------------------------\n",
      "(1092, 3)\n",
      "(310, 3)\n",
      "(888, 3)\n",
      "(296, 5)\n"
     ]
    }
   ],
   "source": [
    "import pandas as pd\n",
    "import plotly.express as px\n",
    "import itables \n",
    "\n",
    "# Load suicide_rate data\n",
    "suicide_rate = pd.read_csv(\"data\\suicide_rate_data.csv\")\n",
    "\n",
    "suicide_rate\n",
    "\n",
    "# selecting applicable columns\n",
    "suicide_rate_subset = suicide_rate [[\"Reference area\", \"Sex\", \"TIME_PERIOD\", \"OBS_VALUE\"]]\n",
    "\n",
    "suicide_rate_subset\n",
    "\n",
    "# changing to representative column names\n",
    "suicide_rate_subset = suicide_rate_subset.rename(columns={\"Reference area\": \"country\", \"Sex\": \"sex\", \"TIME_PERIOD\": \"year\", \"OBS_VALUE\": \"mortality_count\"})\n",
    "\n",
    "suicide_rate_subset\n",
    "\n",
    "# internet_use data\n",
    "internet_use = pd.read_csv (\"data\\household_internet_use.csv\")\n",
    "\n",
    "internet_use \n",
    "\n",
    "# selecting applicable columns\n",
    "internet_use_subset = internet_use[[\"Reference area\", \"TIME_PERIOD\", \"OBS_VALUE\"]]\n",
    "\n",
    "internet_use_subset\n",
    "\n",
    "# changing to representative column names\n",
    "internet_use_subset = internet_use_subset.rename(columns={\"Reference area\": \"country\", \"TIME_PERIOD\": \"year\", \"OBS_VALUE\": \"percent_internet_household\"})\n",
    "\n",
    "internet_use_subset\n",
    "\n",
    "# Load happiness_score data\n",
    "happiness_data = pd.read_csv(\"data\\hapiscore_whr.csv\")\n",
    "happiness_data\n",
    "\n",
    "# changing dataset to a long format\n",
    "happiness_data_long = happiness_data.melt(id_vars=\"country\")\n",
    "happiness_data_long\n",
    "\n",
    "# changing to representative column names\n",
    "happiness_data_long = happiness_data.melt(id_vars=\"country\", var_name=\"year\", value_name = \"happiness_count\").sort_values([\"country\", \"year\"])\n",
    "\n",
    "happiness_data_long\n",
    "\n",
    "# Function to check data types \n",
    "\n",
    "def check_data_types(df, name):\n",
    "    print(f\"Data Types for {name}:\\n\")\n",
    "    print(df.dtypes)\n",
    "    print(\"-\" * 40)  # Separator for clarity\n",
    "\n",
    "# checks data types for all three datasets\n",
    "check_data_types(internet_use_subset, \"Internet Use Subset\")\n",
    "check_data_types(suicide_rate_subset, \"Suicide Rate Subset\")\n",
    "check_data_types(happiness_data_long, \"Happiness Data Long\")\n",
    "\n",
    "\n",
    "# converting the 'year' column to integer type, and coercing errors to NaN\n",
    "happiness_data_long['year'] = pd.to_numeric(happiness_data_long['year'], errors='coerce')\n",
    "\n",
    "# Confirm the conversion\n",
    "print(happiness_data_long['year'].dtype)\n",
    "\n",
    "\n",
    "# filtering for year 2015 to 2022\n",
    "happiness_data_long = happiness_data_long[\n",
    "    (happiness_data_long['year'] >= 2015) & (happiness_data_long['year'] <= 2022)\n",
    "]\n",
    "happiness_data_long = happiness_data_long[\n",
    "    (happiness_data_long['year'] >= 2015) & (happiness_data_long['year'] <= 2022)\n",
    "]\n",
    "\n",
    "# Check the result\n",
    "happiness_data_long['year'].unique()\n",
    "\n",
    "#calculating missing values for each dataset\n",
    "happiness_missing = happiness_data_long.isna().sum()\n",
    "internet_missing = internet_use_subset.isna().sum()\n",
    "suicide_missing = suicide_rate_subset.isna().sum()\n",
    "\n",
    "\n",
    "# combining the results into a single DataFrame\n",
    "missing_summary = pd.DataFrame({\n",
    "   'dataset': ['happiness_score', 'internet_use', 'suicide_rate'],\n",
    "   'country': [happiness_missing['country'], internet_missing['country'], suicide_missing['country']],\n",
    "   'year': [happiness_missing['year'], internet_missing['year'], suicide_missing['year']],\n",
    "   'value_column': [happiness_missing['happiness_count'], internet_missing['percent_internet_household'], suicide_missing['mortality_count']]\n",
    "})\n",
    "\n",
    "missing_summary                      \n",
    "\n",
    "# reshaping with melt and naming columns for clarity\n",
    "missing_summary = missing_summary.melt(\n",
    "    id_vars='dataset', var_name='dataset_columns', value_name='missing_count'\n",
    ").sort_values('dataset')\n",
    "missing_summary\n",
    "\n",
    "# bar chart for missing values\n",
    "fig = px.bar(\n",
    "    missing_summary,\n",
    "    x='dataset_columns',\n",
    "    y='missing_count',\n",
    "    color='dataset',\n",
    "    title='Missing Values per Column Across Datasets',\n",
    "    labels={'missing_count': 'Count of Missing Values', 'dataset_columns': 'Columns'},\n",
    "    barmode='group'\n",
    ")\n",
    "\n",
    "fig.show()\n",
    "\n",
    "# dropping missing value from dataset\n",
    "happiness_data_long.dropna(inplace=True)\n",
    "\n",
    "\n",
    "# function to check any persistent missing values\n",
    "def check_missing_data(df, name):\n",
    "    print(f\"Missing Data Summary for {name}:\")\n",
    "    print(df.isna().sum())\n",
    "    print(\"-\" * 40)\n",
    "\n",
    "# Check for missing values in each dataset\n",
    "check_missing_data(happiness_data_long, \"Happiness Data\")\n",
    "check_missing_data(internet_use_subset, \"Internet Use Data\")\n",
    "check_missing_data(suicide_rate_subset, \"Suicide Rate Data\")\n",
    "\n",
    "\n",
    "# rounding to 1 decimal for consistency with other datasets\n",
    "internet_use_subset[\"percent_internet_household\"] = internet_use_subset[\"percent_internet_household\"].round(1)\n",
    "\n",
    "internet_use_subset\n",
    "\n",
    "# creating a pivoted version of the 'suicide_rate_subset' DataFrame \n",
    "# to analyze mortality rates by sex (Male, Female, Total)\n",
    "# without modifying the original 'suicide_rate_subset\n",
    "# pivoting the data so each sex becomes its own column\n",
    "suicide_rate_pivot = suicide_rate_subset.pivot_table(\n",
    "    index=['country', 'year'],\n",
    "    columns='sex',\n",
    "    values='mortality_count',\n",
    "    aggfunc='sum'  # Aggregate if duplicates exist\n",
    ").reset_index()\n",
    "\n",
    "# renaming the columns for clarity\n",
    "suicide_rate_pivot.columns.name = None  # removing column index name\n",
    "suicide_rate_pivot = suicide_rate_pivot.rename(columns={\n",
    "    'Male': 'mortality_male',\n",
    "    'Female': 'mortality_female',\n",
    "    'Total': 'mortality_total'\n",
    "})\n",
    "\n",
    "# cleaned dataset\n",
    "suicide_rate_pivot.head()\n",
    "\n",
    "# droping the 'sex' column from the suicide_rate_subset\n",
    "suicide_rate_cleaned = suicide_rate_subset.drop(columns=['sex'])\n",
    "\n",
    "suicide_rate_cleaned.head()\n",
    "\n",
    "print(happiness_data_long.shape)\n",
    "print(internet_use_subset.shape)\n",
    "print(suicide_rate_cleaned.shape)\n",
    "print(suicide_rate_pivot.shape)\n",
    "\n",
    "\n",
    "\n",
    "happy = set(happiness_data_long[\"country\"].unique())\n",
    "sad = set(suicide_rate_cleaned[\"country\"].unique())"
   ]
  },
  {
   "cell_type": "code",
   "execution_count": null,
   "id": "b56d8fa6-30c0-479e-a1dd-46fde8006d54",
   "metadata": {
    "vscode": {
     "languageId": "quarto"
    }
   },
   "outputs": [],
   "source": [
    "happy = set(happiness_data_long[\"country\"].unique())\n",
    "sad = set(suicide_rate_cleaned[\"country\"].unique())"
   ]
  },
  {
   "cell_type": "code",
   "execution_count": null,
   "id": "786ef14f-2444-4d76-8f32-0468afa8211b",
   "metadata": {
    "vscode": {
     "languageId": "quarto"
    }
   },
   "outputs": [],
   "source": [
    "happy = set(happiness_data_long[\"country\"].unique())\n",
    "sad = set(suicide_rate_cleaned[\"country\"].unique())"
   ]
  },
  {
   "cell_type": "code",
   "execution_count": null,
   "id": "47b8fd61-ff66-4bdc-9f7d-b6e2e83885f6",
   "metadata": {
    "vscode": {
     "languageId": "quarto"
    }
   },
   "outputs": [
    {
     "data": {
      "text/plain": [
       "{'Afghanistan',\n",
       " 'Albania',\n",
       " 'Algeria',\n",
       " 'Armenia',\n",
       " 'Azerbaijan',\n",
       " 'Bahrain',\n",
       " 'Bangladesh',\n",
       " 'Belarus',\n",
       " 'Benin',\n",
       " 'Bhutan',\n",
       " 'Bolivia',\n",
       " 'Bosnia and Herzegovina',\n",
       " 'Botswana',\n",
       " 'Burkina Faso',\n",
       " 'Burundi',\n",
       " 'Cambodia',\n",
       " 'Cameroon',\n",
       " 'Central African Republic',\n",
       " 'Chad',\n",
       " 'China',\n",
       " 'Comoros',\n",
       " 'Congo, Dem. Rep.',\n",
       " 'Congo, Rep.',\n",
       " \"Cote d'Ivoire\",\n",
       " 'Cyprus',\n",
       " 'Czech Republic',\n",
       " 'Dominican Republic',\n",
       " 'Ecuador',\n",
       " 'Egypt',\n",
       " 'El Salvador',\n",
       " 'Eswatini',\n",
       " 'Ethiopia',\n",
       " 'Gabon',\n",
       " 'Gambia',\n",
       " 'Georgia',\n",
       " 'Ghana',\n",
       " 'Guatemala',\n",
       " 'Guinea',\n",
       " 'Haiti',\n",
       " 'Honduras',\n",
       " 'Hong Kong, China',\n",
       " 'India',\n",
       " 'Indonesia',\n",
       " 'Iran',\n",
       " 'Iraq',\n",
       " 'Jamaica',\n",
       " 'Jordan',\n",
       " 'Kazakhstan',\n",
       " 'Kenya',\n",
       " 'Kosovo',\n",
       " 'Kuwait',\n",
       " 'Kyrgyz Republic',\n",
       " 'Lao',\n",
       " 'Lebanon',\n",
       " 'Lesotho',\n",
       " 'Liberia',\n",
       " 'Libya',\n",
       " 'Madagascar',\n",
       " 'Malawi',\n",
       " 'Malaysia',\n",
       " 'Maldives',\n",
       " 'Mali',\n",
       " 'Malta',\n",
       " 'Mauritania',\n",
       " 'Mauritius',\n",
       " 'Moldova',\n",
       " 'Mongolia',\n",
       " 'Montenegro',\n",
       " 'Morocco',\n",
       " 'Mozambique',\n",
       " 'Myanmar',\n",
       " 'Namibia',\n",
       " 'Nepal',\n",
       " 'Nicaragua',\n",
       " 'Niger',\n",
       " 'Nigeria',\n",
       " 'North Macedonia',\n",
       " 'Pakistan',\n",
       " 'Palestine',\n",
       " 'Panama',\n",
       " 'Paraguay',\n",
       " 'Philippines',\n",
       " 'Qatar',\n",
       " 'Rwanda',\n",
       " 'Saudi Arabia',\n",
       " 'Senegal',\n",
       " 'Serbia',\n",
       " 'Sierra Leone',\n",
       " 'Singapore',\n",
       " 'Somalia',\n",
       " 'South Korea',\n",
       " 'South Sudan',\n",
       " 'Sri Lanka',\n",
       " 'Syria',\n",
       " 'Taiwan',\n",
       " 'Tajikistan',\n",
       " 'Tanzania',\n",
       " 'Thailand',\n",
       " 'Togo',\n",
       " 'Trinidad and Tobago',\n",
       " 'Tunisia',\n",
       " 'Turkey',\n",
       " 'Turkmenistan',\n",
       " 'UAE',\n",
       " 'UK',\n",
       " 'USA',\n",
       " 'Uganda',\n",
       " 'Ukraine',\n",
       " 'Uruguay',\n",
       " 'Uzbekistan',\n",
       " 'Venezuela',\n",
       " 'Vietnam',\n",
       " 'Yemen',\n",
       " 'Zambia',\n",
       " 'Zimbabwe'}"
      ]
     },
     "execution_count": 10,
     "metadata": {},
     "output_type": "execute_result"
    }
   ],
   "source": [
    "happy - sad"
   ]
  },
  {
   "cell_type": "code",
   "execution_count": null,
   "id": "1dde2774-e3da-4dbd-b7f1-c511a3c3c80d",
   "metadata": {
    "vscode": {
     "languageId": "quarto"
    }
   },
   "outputs": [
    {
     "data": {
      "text/plain": [
       "{'Czechia', 'Korea', 'Türkiye', 'United Kingdom', 'United States'}"
      ]
     },
     "execution_count": 11,
     "metadata": {},
     "output_type": "execute_result"
    }
   ],
   "source": [
    "sad - happy "
   ]
  },
  {
   "cell_type": "code",
   "execution_count": null,
   "id": "e2a11d0a-037c-451a-a87d-c44d792d88f3",
   "metadata": {
    "vscode": {
     "languageId": "quarto"
    }
   },
   "outputs": [
    {
     "ename": "NameError",
     "evalue": "name 'cc' is not defined",
     "output_type": "error",
     "traceback": [
      "\u001b[1;31m---------------------------------------------------------------------------\u001b[0m",
      "\u001b[1;31mNameError\u001b[0m                                 Traceback (most recent call last)",
      "File \u001b[1;32mc:\\Users\\dataw\\OneDrive\\Documentos\\GitHub\\graph_courses_python_git\\final_project.qmd:1\u001b[0m\n\u001b[1;32m----> 1\u001b[0m happiness_data_long[\u001b[39m\"\u001b[39m\u001b[39mcountry_code\u001b[39m\u001b[39m\"\u001b[39m]  \u001b[39m=\u001b[39m cc\u001b[39m.\u001b[39mconvert(happiness_data_long[\u001b[39m\"\u001b[39m\u001b[39mcountry\u001b[39m\u001b[39m\"\u001b[39m], to\u001b[39m=\u001b[39m\u001b[39m\"\u001b[39m\u001b[39mISO3\u001b[39m\u001b[39m\"\u001b[39m)\n\u001b[0;32m      2\u001b[0m internet_use_subset[\u001b[39m\"\u001b[39m\u001b[39mcountry_code\u001b[39m\u001b[39m\"\u001b[39m]  \u001b[39m=\u001b[39m cc\u001b[39m.\u001b[39mconvert(internet_use_subset[\u001b[39m\"\u001b[39m\u001b[39mcountry\u001b[39m\u001b[39m\"\u001b[39m], to\u001b[39m=\u001b[39m\u001b[39m\"\u001b[39m\u001b[39mISO3\u001b[39m\u001b[39m\"\u001b[39m)\n\u001b[0;32m      3\u001b[0m suicide_rate_cleaned[\u001b[39m\"\u001b[39m\u001b[39mcountry_code\u001b[39m\u001b[39m\"\u001b[39m] \u001b[39m=\u001b[39m cc\u001b[39m.\u001b[39mconvert(suicide_rate_cleaned[\u001b[39m\"\u001b[39m\u001b[39mcountry\u001b[39m\u001b[39m\"\u001b[39m], to\u001b[39m=\u001b[39m\u001b[39m\"\u001b[39m\u001b[39mISO3\u001b[39m\u001b[39m\"\u001b[39m)\n",
      "\u001b[1;31mNameError\u001b[0m: name 'cc' is not defined"
     ]
    }
   ],
   "source": [
    "happiness_data_long[\"country_code\"]  = cc.convert(happiness_data_long[\"country\"], to=\"ISO3\")\n",
    "internet_use_subset[\"country_code\"]  = cc.convert(internet_use_subset[\"country\"], to=\"ISO3\")\n",
    "suicide_rate_cleaned[\"country_code\"] = cc.convert(suicide_rate_cleaned[\"country\"], to=\"ISO3\")"
   ]
  },
  {
   "cell_type": "code",
   "execution_count": null,
   "id": "4b3531a6-35c4-405f-8fe0-9f60dd348503",
   "metadata": {
    "vscode": {
     "languageId": "quarto"
    }
   },
   "outputs": [],
   "source": [
    "import country_converter as cc"
   ]
  },
  {
   "cell_type": "code",
   "execution_count": null,
   "id": "01caf137-8ad6-4d83-a17d-039a3bf8217c",
   "metadata": {
    "vscode": {
     "languageId": "quarto"
    }
   },
   "outputs": [
    {
     "name": "stderr",
     "output_type": "stream",
     "text": [
      "UAE not found in ISO3\n",
      "UAE not found in ISO3\n",
      "UAE not found in ISO3\n",
      "UAE not found in ISO3\n",
      "UAE not found in ISO3\n",
      "UAE not found in ISO3\n",
      "UAE not found in ISO3\n",
      "UAE not found in ISO3\n",
      "OECD not found in regex\n",
      "OECD not found in regex\n",
      "OECD not found in regex\n",
      "OECD not found in regex\n",
      "OECD not found in regex\n",
      "OECD not found in regex\n",
      "OECD not found in regex\n",
      "OECD not found in regex\n",
      "European Union (28 countries) not found in regex\n",
      "European Union (28 countries) not found in regex\n",
      "European Union (28 countries) not found in regex\n",
      "European Union (28 countries) not found in regex\n",
      "European Union (27 countries) not found in regex\n",
      "European Union (27 countries) not found in regex\n",
      "European Union (27 countries) not found in regex\n",
      "European Union (27 countries) not found in regex\n",
      "European Union (27 countries) not found in regex\n",
      "European Union (27 countries) not found in regex\n",
      "European Union (27 countries) not found in regex\n",
      "European Union (28 countries) not found in regex\n",
      "European Union (27 countries) not found in regex\n"
     ]
    }
   ],
   "source": [
    "happiness_data_long[\"country_code\"]  = cc.convert(happiness_data_long[\"country\"], to=\"ISO3\")\n",
    "internet_use_subset[\"country_code\"]  = cc.convert(internet_use_subset[\"country\"], to=\"ISO3\")\n",
    "suicide_rate_cleaned[\"country_code\"] = cc.convert(suicide_rate_cleaned[\"country\"], to=\"ISO3\")"
   ]
  },
  {
   "cell_type": "code",
   "execution_count": null,
   "id": "a53c81bf-4e6f-4b9c-b686-0ab675a82e1b",
   "metadata": {
    "vscode": {
     "languageId": "quarto"
    }
   },
   "outputs": [
    {
     "ename": "TypeError",
     "evalue": "CountryConverter.convert() got an unexpected keyword argument 'errors'",
     "output_type": "error",
     "traceback": [
      "\u001b[1;31m---------------------------------------------------------------------------\u001b[0m",
      "\u001b[1;31mTypeError\u001b[0m                                 Traceback (most recent call last)",
      "File \u001b[1;32mc:\\Users\\dataw\\OneDrive\\Documentos\\GitHub\\graph_courses_python_git\\final_project.qmd:2\u001b[0m\n\u001b[0;32m      1\u001b[0m \u001b[39m# Convert country names to ISO3 codes; invalid entries will become NaN\u001b[39;00m\n\u001b[1;32m----> 2\u001b[0m happiness_data_long[\u001b[39m\"\u001b[39m\u001b[39mcountry_code\u001b[39m\u001b[39m\"\u001b[39m] \u001b[39m=\u001b[39m cc\u001b[39m.\u001b[39;49mconvert(\n\u001b[0;32m      3\u001b[0m     happiness_data_long[\u001b[39m\"\u001b[39;49m\u001b[39mcountry\u001b[39;49m\u001b[39m\"\u001b[39;49m], to\u001b[39m=\u001b[39;49m\u001b[39m\"\u001b[39;49m\u001b[39mISO3\u001b[39;49m\u001b[39m\"\u001b[39;49m, errors\u001b[39m=\u001b[39;49m\u001b[39m'\u001b[39;49m\u001b[39mcoerce\u001b[39;49m\u001b[39m'\u001b[39;49m\n\u001b[0;32m      4\u001b[0m )\n\u001b[0;32m      5\u001b[0m \u001b[39m# Drop rows where 'country_code' is missing\u001b[39;00m\n\u001b[0;32m      6\u001b[0m happiness_data_long \u001b[39m=\u001b[39m happiness_data_long\u001b[39m.\u001b[39mdropna(subset\u001b[39m=\u001b[39m[\u001b[39m\"\u001b[39m\u001b[39mcountry_code\u001b[39m\u001b[39m\"\u001b[39m])\n",
      "File \u001b[1;32mc:\\Users\\dataw\\OneDrive\\Documentos\\GitHub\\graph_courses_python_git\\.venv\\Lib\\site-packages\\country_converter\\country_converter.py:334\u001b[0m, in \u001b[0;36mconvert\u001b[1;34m(*args, **kargs)\u001b[0m\n\u001b[0;32m    332\u001b[0m coco \u001b[39m=\u001b[39m CountryConverter(\u001b[39m*\u001b[39m\u001b[39m*\u001b[39minit)\n\u001b[0;32m    333\u001b[0m kargs \u001b[39m=\u001b[39m {kk: ii \u001b[39mfor\u001b[39;00m kk, ii \u001b[39min\u001b[39;00m kargs\u001b[39m.\u001b[39mitems() \u001b[39mif\u001b[39;00m kk \u001b[39mnot\u001b[39;00m \u001b[39min\u001b[39;00m init\u001b[39m.\u001b[39mkeys()}\n\u001b[1;32m--> 334\u001b[0m \u001b[39mreturn\u001b[39;00m coco\u001b[39m.\u001b[39;49mconvert(\u001b[39m*\u001b[39;49margs, \u001b[39m*\u001b[39;49m\u001b[39m*\u001b[39;49mkargs)\n",
      "\u001b[1;31mTypeError\u001b[0m: CountryConverter.convert() got an unexpected keyword argument 'errors'"
     ]
    }
   ],
   "source": [
    "# Convert country names to ISO3 codes; invalid entries will become NaN\n",
    "happiness_data_long[\"country_code\"] = cc.convert(\n",
    "    happiness_data_long[\"country\"], to=\"ISO3\", errors='coerce'\n",
    ")\n",
    "# Drop rows where 'country_code' is missing\n",
    "happiness_data_long = happiness_data_long.dropna(subset=[\"country_code\"])\n",
    "\n",
    "# Verify the result\n",
    "print(happiness_data_long.head())\n",
    "print(f\"New shape of the DataFrame: {happiness_data_long.shape}\")"
   ]
  },
  {
   "cell_type": "code",
   "execution_count": null,
   "id": "1ce870c4-bf5e-47ec-adda-65326516685d",
   "metadata": {
    "vscode": {
     "languageId": "quarto"
    }
   },
   "outputs": [
    {
     "name": "stderr",
     "output_type": "stream",
     "text": [
      "UAE not found in ISO3\n",
      "UAE not found in ISO3\n",
      "UAE not found in ISO3\n",
      "UAE not found in ISO3\n",
      "UAE not found in ISO3\n",
      "UAE not found in ISO3\n",
      "UAE not found in ISO3\n",
      "UAE not found in ISO3\n"
     ]
    },
    {
     "name": "stdout",
     "output_type": "stream",
     "text": [
      "          country  year  happiness_count country_code\n",
      "1640  Afghanistan  2015             39.8          AFG\n",
      "1804  Afghanistan  2016             42.2          AFG\n",
      "1968  Afghanistan  2017             26.6          AFG\n",
      "2132  Afghanistan  2018             26.9          AFG\n",
      "2296  Afghanistan  2019             23.8          AFG\n",
      "New shape of the DataFrame: (1092, 4)\n"
     ]
    }
   ],
   "source": [
    "# Convert country names to ISO3 codes; invalid entries will become NaN\n",
    "happiness_data_long[\"country_code\"] = cc.convert(\n",
    "    happiness_data_long[\"country\"], to=\"ISO3\"\n",
    ")\n",
    "# Drop rows where 'country_code' is missing\n",
    "happiness_data_long = happiness_data_long.dropna(subset=[\"country_code\"])\n",
    "\n",
    "# Verify the result\n",
    "print(happiness_data_long.head())\n",
    "print(f\"New shape of the DataFrame: {happiness_data_long.shape}\")"
   ]
  },
  {
   "cell_type": "code",
   "execution_count": null,
   "id": "d3dd9580-b329-4b36-b2cd-bb6e370953aa",
   "metadata": {
    "vscode": {
     "languageId": "quarto"
    }
   },
   "outputs": [
    {
     "name": "stderr",
     "output_type": "stream",
     "text": [
      "OECD not found in regex\n",
      "OECD not found in regex\n",
      "OECD not found in regex\n",
      "OECD not found in regex\n",
      "OECD not found in regex\n",
      "OECD not found in regex\n",
      "OECD not found in regex\n",
      "OECD not found in regex\n",
      "European Union (28 countries) not found in regex\n",
      "European Union (28 countries) not found in regex\n",
      "European Union (28 countries) not found in regex\n",
      "European Union (28 countries) not found in regex\n",
      "European Union (27 countries) not found in regex\n",
      "European Union (27 countries) not found in regex\n",
      "European Union (27 countries) not found in regex\n",
      "European Union (27 countries) not found in regex\n",
      "European Union (27 countries) not found in regex\n",
      "European Union (27 countries) not found in regex\n",
      "European Union (27 countries) not found in regex\n",
      "European Union (28 countries) not found in regex\n",
      "European Union (27 countries) not found in regex\n"
     ]
    },
    {
     "name": "stdout",
     "output_type": "stream",
     "text": [
      "   country  year  percent_internet_household country_code\n",
      "0   Mexico  2015                        39.2          MEX\n",
      "1   Sweden  2020                        93.9          SWE\n",
      "2   Sweden  2021                        93.2          SWE\n",
      "3  Estonia  2017                        88.3          EST\n",
      "4     OECD  2017                        84.2    not found\n",
      "New shape of the DataFrame: (310, 4)\n"
     ]
    }
   ],
   "source": [
    "internet_use_subset[\"country_code\"]  = cc.convert(internet_use_subset[\"country\"], to=\"ISO3\")\n",
    "# Drop rows where 'country_code' is missing\n",
    "internet_use_subset = internet_use_subset.dropna(subset=[\"country_code\"])\n",
    "\n",
    "# Verify the result\n",
    "print(internet_use_subset.head())\n",
    "print(f\"New shape of the DataFrame: {internet_use_subset.shape}\")"
   ]
  },
  {
   "cell_type": "code",
   "execution_count": null,
   "id": "09835313-8ed4-4b46-8025-26562572c93b",
   "metadata": {
    "vscode": {
     "languageId": "quarto"
    }
   },
   "outputs": [
    {
     "name": "stderr",
     "output_type": "stream",
     "text": [
      "OECD not found in regex\n",
      "OECD not found in regex\n",
      "OECD not found in regex\n",
      "OECD not found in regex\n",
      "OECD not found in regex\n",
      "OECD not found in regex\n",
      "OECD not found in regex\n",
      "OECD not found in regex\n",
      "European Union (28 countries) not found in regex\n",
      "European Union (28 countries) not found in regex\n",
      "European Union (28 countries) not found in regex\n",
      "European Union (28 countries) not found in regex\n",
      "European Union (27 countries) not found in regex\n",
      "European Union (27 countries) not found in regex\n",
      "European Union (27 countries) not found in regex\n",
      "European Union (27 countries) not found in regex\n",
      "European Union (27 countries) not found in regex\n",
      "European Union (27 countries) not found in regex\n",
      "European Union (27 countries) not found in regex\n",
      "European Union (28 countries) not found in regex\n",
      "European Union (27 countries) not found in regex\n"
     ]
    },
    {
     "name": "stdout",
     "output_type": "stream",
     "text": [
      "   country  year  percent_internet_household country_code\n",
      "0   Mexico  2015                        39.2          MEX\n",
      "1   Sweden  2020                        93.9          SWE\n",
      "2   Sweden  2021                        93.2          SWE\n",
      "3  Estonia  2017                        88.3          EST\n",
      "4     OECD  2017                        84.2    not found\n",
      "New shape of the DataFrame: (310, 4)\n"
     ]
    }
   ],
   "source": [
    "internet_use_subset[\"country_code\"]  = cc.convert(internet_use_subset[\"country\"], to=\"ISO3\")\n",
    "# Drop rows where 'country_code' is missing\n",
    "internet_use_subset = internet_use_subset.dropna(subset=[\"country_code\"])\n",
    "\n",
    "# Verify the result\n",
    "print(internet_use_subset.head())\n",
    "print(f\"New shape of the DataFrame: {internet_use_subset.shape}\")"
   ]
  },
  {
   "cell_type": "code",
   "execution_count": null,
   "id": "928c548a-afae-4207-9d80-355c220f8ff1",
   "metadata": {
    "vscode": {
     "languageId": "quarto"
    }
   },
   "outputs": [
    {
     "name": "stdout",
     "output_type": "stream",
     "text": [
      "        country  year  mortality_count country_code\n",
      "0       Ireland  2016              9.4          IRL\n",
      "1       Iceland  2017             17.9          ISL\n",
      "2  South Africa  2016              0.3          ZAF\n",
      "3  South Africa  2017              0.3          ZAF\n",
      "4       Austria  2015              5.9          AUT\n",
      "New shape of the DataFrame: (888, 4)\n"
     ]
    }
   ],
   "source": [
    "suicide_rate_cleaned[\"country_code\"] = cc.convert(suicide_rate_cleaned[\"country\"], to=\"ISO3\")\n",
    "# Drop rows where 'country_code' is missing\n",
    "suicide_rate_cleaned = suicide_rate_cleaned.dropna(subset=[\"country_code\"])\n",
    "\n",
    "# Verify the result\n",
    "print(suicide_rate_cleaned.head())\n",
    "print(f\"New shape of the DataFrame: {suicide_rate_cleaned.shape}\")"
   ]
  },
  {
   "cell_type": "code",
   "execution_count": null,
   "id": "32adf312-7561-43dd-af2f-bc2e69e6374c",
   "metadata": {
    "vscode": {
     "languageId": "quarto"
    }
   },
   "outputs": [
    {
     "name": "stdout",
     "output_type": "stream",
     "text": [
      "Data Types for Internet Use Subset:\n",
      "\n",
      "country                        object\n",
      "year                            int64\n",
      "percent_internet_household    float64\n",
      "dtype: object\n",
      "----------------------------------------\n",
      "Data Types for Suicide Rate Subset:\n",
      "\n",
      "country             object\n",
      "sex                 object\n",
      "year                 int64\n",
      "mortality_count    float64\n",
      "dtype: object\n",
      "----------------------------------------\n",
      "Data Types for Happiness Data Long:\n",
      "\n",
      "country             object\n",
      "year                object\n",
      "happiness_count    float64\n",
      "dtype: object\n",
      "----------------------------------------\n",
      "int64\n"
     ]
    },
    {
     "name": "stderr",
     "output_type": "stream",
     "text": [
      "<>:7: SyntaxWarning:\n",
      "\n",
      "invalid escape sequence '\\s'\n",
      "\n",
      "<>:22: SyntaxWarning:\n",
      "\n",
      "invalid escape sequence '\\h'\n",
      "\n",
      "<>:37: SyntaxWarning:\n",
      "\n",
      "invalid escape sequence '\\h'\n",
      "\n",
      "<>:7: SyntaxWarning:\n",
      "\n",
      "invalid escape sequence '\\s'\n",
      "\n",
      "<>:22: SyntaxWarning:\n",
      "\n",
      "invalid escape sequence '\\h'\n",
      "\n",
      "<>:37: SyntaxWarning:\n",
      "\n",
      "invalid escape sequence '\\h'\n",
      "\n",
      "<ipython-input-20-71c03c0be094>:7: SyntaxWarning:\n",
      "\n",
      "invalid escape sequence '\\s'\n",
      "\n",
      "<ipython-input-20-71c03c0be094>:22: SyntaxWarning:\n",
      "\n",
      "invalid escape sequence '\\h'\n",
      "\n",
      "<ipython-input-20-71c03c0be094>:37: SyntaxWarning:\n",
      "\n",
      "invalid escape sequence '\\h'\n",
      "\n"
     ]
    },
    {
     "data": {
      "application/vnd.plotly.v1+json": {
       "config": {
        "plotlyServerURL": "https://plot.ly"
       },
       "data": [
        {
         "alignmentgroup": "True",
         "hovertemplate": "dataset=happiness_score<br>Columns=%{x}<br>Count of Missing Values=%{y}<extra></extra>",
         "legendgroup": "happiness_score",
         "marker": {
          "color": "#636efa",
          "pattern": {
           "shape": ""
          }
         },
         "name": "happiness_score",
         "offsetgroup": "happiness_score",
         "orientation": "v",
         "showlegend": true,
         "textposition": "auto",
         "type": "bar",
         "x": [
          "country",
          "year",
          "value_column"
         ],
         "xaxis": "x",
         "y": [
          0,
          0,
          220
         ],
         "yaxis": "y"
        },
        {
         "alignmentgroup": "True",
         "hovertemplate": "dataset=internet_use<br>Columns=%{x}<br>Count of Missing Values=%{y}<extra></extra>",
         "legendgroup": "internet_use",
         "marker": {
          "color": "#EF553B",
          "pattern": {
           "shape": ""
          }
         },
         "name": "internet_use",
         "offsetgroup": "internet_use",
         "orientation": "v",
         "showlegend": true,
         "textposition": "auto",
         "type": "bar",
         "x": [
          "country",
          "year",
          "value_column"
         ],
         "xaxis": "x",
         "y": [
          0,
          0,
          0
         ],
         "yaxis": "y"
        },
        {
         "alignmentgroup": "True",
         "hovertemplate": "dataset=suicide_rate<br>Columns=%{x}<br>Count of Missing Values=%{y}<extra></extra>",
         "legendgroup": "suicide_rate",
         "marker": {
          "color": "#00cc96",
          "pattern": {
           "shape": ""
          }
         },
         "name": "suicide_rate",
         "offsetgroup": "suicide_rate",
         "orientation": "v",
         "showlegend": true,
         "textposition": "auto",
         "type": "bar",
         "x": [
          "country",
          "year",
          "value_column"
         ],
         "xaxis": "x",
         "y": [
          0,
          0,
          0
         ],
         "yaxis": "y"
        }
       ],
       "layout": {
        "barmode": "group",
        "legend": {
         "title": {
          "text": "dataset"
         },
         "tracegroupgap": 0
        },
        "template": {
         "data": {
          "bar": [
           {
            "error_x": {
             "color": "#2a3f5f"
            },
            "error_y": {
             "color": "#2a3f5f"
            },
            "marker": {
             "line": {
              "color": "#E5ECF6",
              "width": 0.5
             },
             "pattern": {
              "fillmode": "overlay",
              "size": 10,
              "solidity": 0.2
             }
            },
            "type": "bar"
           }
          ],
          "barpolar": [
           {
            "marker": {
             "line": {
              "color": "#E5ECF6",
              "width": 0.5
             },
             "pattern": {
              "fillmode": "overlay",
              "size": 10,
              "solidity": 0.2
             }
            },
            "type": "barpolar"
           }
          ],
          "carpet": [
           {
            "aaxis": {
             "endlinecolor": "#2a3f5f",
             "gridcolor": "white",
             "linecolor": "white",
             "minorgridcolor": "white",
             "startlinecolor": "#2a3f5f"
            },
            "baxis": {
             "endlinecolor": "#2a3f5f",
             "gridcolor": "white",
             "linecolor": "white",
             "minorgridcolor": "white",
             "startlinecolor": "#2a3f5f"
            },
            "type": "carpet"
           }
          ],
          "choropleth": [
           {
            "colorbar": {
             "outlinewidth": 0,
             "ticks": ""
            },
            "type": "choropleth"
           }
          ],
          "contour": [
           {
            "colorbar": {
             "outlinewidth": 0,
             "ticks": ""
            },
            "colorscale": [
             [
              0,
              "#0d0887"
             ],
             [
              0.1111111111111111,
              "#46039f"
             ],
             [
              0.2222222222222222,
              "#7201a8"
             ],
             [
              0.3333333333333333,
              "#9c179e"
             ],
             [
              0.4444444444444444,
              "#bd3786"
             ],
             [
              0.5555555555555556,
              "#d8576b"
             ],
             [
              0.6666666666666666,
              "#ed7953"
             ],
             [
              0.7777777777777778,
              "#fb9f3a"
             ],
             [
              0.8888888888888888,
              "#fdca26"
             ],
             [
              1,
              "#f0f921"
             ]
            ],
            "type": "contour"
           }
          ],
          "contourcarpet": [
           {
            "colorbar": {
             "outlinewidth": 0,
             "ticks": ""
            },
            "type": "contourcarpet"
           }
          ],
          "heatmap": [
           {
            "colorbar": {
             "outlinewidth": 0,
             "ticks": ""
            },
            "colorscale": [
             [
              0,
              "#0d0887"
             ],
             [
              0.1111111111111111,
              "#46039f"
             ],
             [
              0.2222222222222222,
              "#7201a8"
             ],
             [
              0.3333333333333333,
              "#9c179e"
             ],
             [
              0.4444444444444444,
              "#bd3786"
             ],
             [
              0.5555555555555556,
              "#d8576b"
             ],
             [
              0.6666666666666666,
              "#ed7953"
             ],
             [
              0.7777777777777778,
              "#fb9f3a"
             ],
             [
              0.8888888888888888,
              "#fdca26"
             ],
             [
              1,
              "#f0f921"
             ]
            ],
            "type": "heatmap"
           }
          ],
          "heatmapgl": [
           {
            "colorbar": {
             "outlinewidth": 0,
             "ticks": ""
            },
            "colorscale": [
             [
              0,
              "#0d0887"
             ],
             [
              0.1111111111111111,
              "#46039f"
             ],
             [
              0.2222222222222222,
              "#7201a8"
             ],
             [
              0.3333333333333333,
              "#9c179e"
             ],
             [
              0.4444444444444444,
              "#bd3786"
             ],
             [
              0.5555555555555556,
              "#d8576b"
             ],
             [
              0.6666666666666666,
              "#ed7953"
             ],
             [
              0.7777777777777778,
              "#fb9f3a"
             ],
             [
              0.8888888888888888,
              "#fdca26"
             ],
             [
              1,
              "#f0f921"
             ]
            ],
            "type": "heatmapgl"
           }
          ],
          "histogram": [
           {
            "marker": {
             "pattern": {
              "fillmode": "overlay",
              "size": 10,
              "solidity": 0.2
             }
            },
            "type": "histogram"
           }
          ],
          "histogram2d": [
           {
            "colorbar": {
             "outlinewidth": 0,
             "ticks": ""
            },
            "colorscale": [
             [
              0,
              "#0d0887"
             ],
             [
              0.1111111111111111,
              "#46039f"
             ],
             [
              0.2222222222222222,
              "#7201a8"
             ],
             [
              0.3333333333333333,
              "#9c179e"
             ],
             [
              0.4444444444444444,
              "#bd3786"
             ],
             [
              0.5555555555555556,
              "#d8576b"
             ],
             [
              0.6666666666666666,
              "#ed7953"
             ],
             [
              0.7777777777777778,
              "#fb9f3a"
             ],
             [
              0.8888888888888888,
              "#fdca26"
             ],
             [
              1,
              "#f0f921"
             ]
            ],
            "type": "histogram2d"
           }
          ],
          "histogram2dcontour": [
           {
            "colorbar": {
             "outlinewidth": 0,
             "ticks": ""
            },
            "colorscale": [
             [
              0,
              "#0d0887"
             ],
             [
              0.1111111111111111,
              "#46039f"
             ],
             [
              0.2222222222222222,
              "#7201a8"
             ],
             [
              0.3333333333333333,
              "#9c179e"
             ],
             [
              0.4444444444444444,
              "#bd3786"
             ],
             [
              0.5555555555555556,
              "#d8576b"
             ],
             [
              0.6666666666666666,
              "#ed7953"
             ],
             [
              0.7777777777777778,
              "#fb9f3a"
             ],
             [
              0.8888888888888888,
              "#fdca26"
             ],
             [
              1,
              "#f0f921"
             ]
            ],
            "type": "histogram2dcontour"
           }
          ],
          "mesh3d": [
           {
            "colorbar": {
             "outlinewidth": 0,
             "ticks": ""
            },
            "type": "mesh3d"
           }
          ],
          "parcoords": [
           {
            "line": {
             "colorbar": {
              "outlinewidth": 0,
              "ticks": ""
             }
            },
            "type": "parcoords"
           }
          ],
          "pie": [
           {
            "automargin": true,
            "type": "pie"
           }
          ],
          "scatter": [
           {
            "fillpattern": {
             "fillmode": "overlay",
             "size": 10,
             "solidity": 0.2
            },
            "type": "scatter"
           }
          ],
          "scatter3d": [
           {
            "line": {
             "colorbar": {
              "outlinewidth": 0,
              "ticks": ""
             }
            },
            "marker": {
             "colorbar": {
              "outlinewidth": 0,
              "ticks": ""
             }
            },
            "type": "scatter3d"
           }
          ],
          "scattercarpet": [
           {
            "marker": {
             "colorbar": {
              "outlinewidth": 0,
              "ticks": ""
             }
            },
            "type": "scattercarpet"
           }
          ],
          "scattergeo": [
           {
            "marker": {
             "colorbar": {
              "outlinewidth": 0,
              "ticks": ""
             }
            },
            "type": "scattergeo"
           }
          ],
          "scattergl": [
           {
            "marker": {
             "colorbar": {
              "outlinewidth": 0,
              "ticks": ""
             }
            },
            "type": "scattergl"
           }
          ],
          "scattermapbox": [
           {
            "marker": {
             "colorbar": {
              "outlinewidth": 0,
              "ticks": ""
             }
            },
            "type": "scattermapbox"
           }
          ],
          "scatterpolar": [
           {
            "marker": {
             "colorbar": {
              "outlinewidth": 0,
              "ticks": ""
             }
            },
            "type": "scatterpolar"
           }
          ],
          "scatterpolargl": [
           {
            "marker": {
             "colorbar": {
              "outlinewidth": 0,
              "ticks": ""
             }
            },
            "type": "scatterpolargl"
           }
          ],
          "scatterternary": [
           {
            "marker": {
             "colorbar": {
              "outlinewidth": 0,
              "ticks": ""
             }
            },
            "type": "scatterternary"
           }
          ],
          "surface": [
           {
            "colorbar": {
             "outlinewidth": 0,
             "ticks": ""
            },
            "colorscale": [
             [
              0,
              "#0d0887"
             ],
             [
              0.1111111111111111,
              "#46039f"
             ],
             [
              0.2222222222222222,
              "#7201a8"
             ],
             [
              0.3333333333333333,
              "#9c179e"
             ],
             [
              0.4444444444444444,
              "#bd3786"
             ],
             [
              0.5555555555555556,
              "#d8576b"
             ],
             [
              0.6666666666666666,
              "#ed7953"
             ],
             [
              0.7777777777777778,
              "#fb9f3a"
             ],
             [
              0.8888888888888888,
              "#fdca26"
             ],
             [
              1,
              "#f0f921"
             ]
            ],
            "type": "surface"
           }
          ],
          "table": [
           {
            "cells": {
             "fill": {
              "color": "#EBF0F8"
             },
             "line": {
              "color": "white"
             }
            },
            "header": {
             "fill": {
              "color": "#C8D4E3"
             },
             "line": {
              "color": "white"
             }
            },
            "type": "table"
           }
          ]
         },
         "layout": {
          "annotationdefaults": {
           "arrowcolor": "#2a3f5f",
           "arrowhead": 0,
           "arrowwidth": 1
          },
          "autotypenumbers": "strict",
          "coloraxis": {
           "colorbar": {
            "outlinewidth": 0,
            "ticks": ""
           }
          },
          "colorscale": {
           "diverging": [
            [
             0,
             "#8e0152"
            ],
            [
             0.1,
             "#c51b7d"
            ],
            [
             0.2,
             "#de77ae"
            ],
            [
             0.3,
             "#f1b6da"
            ],
            [
             0.4,
             "#fde0ef"
            ],
            [
             0.5,
             "#f7f7f7"
            ],
            [
             0.6,
             "#e6f5d0"
            ],
            [
             0.7,
             "#b8e186"
            ],
            [
             0.8,
             "#7fbc41"
            ],
            [
             0.9,
             "#4d9221"
            ],
            [
             1,
             "#276419"
            ]
           ],
           "sequential": [
            [
             0,
             "#0d0887"
            ],
            [
             0.1111111111111111,
             "#46039f"
            ],
            [
             0.2222222222222222,
             "#7201a8"
            ],
            [
             0.3333333333333333,
             "#9c179e"
            ],
            [
             0.4444444444444444,
             "#bd3786"
            ],
            [
             0.5555555555555556,
             "#d8576b"
            ],
            [
             0.6666666666666666,
             "#ed7953"
            ],
            [
             0.7777777777777778,
             "#fb9f3a"
            ],
            [
             0.8888888888888888,
             "#fdca26"
            ],
            [
             1,
             "#f0f921"
            ]
           ],
           "sequentialminus": [
            [
             0,
             "#0d0887"
            ],
            [
             0.1111111111111111,
             "#46039f"
            ],
            [
             0.2222222222222222,
             "#7201a8"
            ],
            [
             0.3333333333333333,
             "#9c179e"
            ],
            [
             0.4444444444444444,
             "#bd3786"
            ],
            [
             0.5555555555555556,
             "#d8576b"
            ],
            [
             0.6666666666666666,
             "#ed7953"
            ],
            [
             0.7777777777777778,
             "#fb9f3a"
            ],
            [
             0.8888888888888888,
             "#fdca26"
            ],
            [
             1,
             "#f0f921"
            ]
           ]
          },
          "colorway": [
           "#636efa",
           "#EF553B",
           "#00cc96",
           "#ab63fa",
           "#FFA15A",
           "#19d3f3",
           "#FF6692",
           "#B6E880",
           "#FF97FF",
           "#FECB52"
          ],
          "font": {
           "color": "#2a3f5f"
          },
          "geo": {
           "bgcolor": "white",
           "lakecolor": "white",
           "landcolor": "#E5ECF6",
           "showlakes": true,
           "showland": true,
           "subunitcolor": "white"
          },
          "hoverlabel": {
           "align": "left"
          },
          "hovermode": "closest",
          "mapbox": {
           "style": "light"
          },
          "paper_bgcolor": "white",
          "plot_bgcolor": "#E5ECF6",
          "polar": {
           "angularaxis": {
            "gridcolor": "white",
            "linecolor": "white",
            "ticks": ""
           },
           "bgcolor": "#E5ECF6",
           "radialaxis": {
            "gridcolor": "white",
            "linecolor": "white",
            "ticks": ""
           }
          },
          "scene": {
           "xaxis": {
            "backgroundcolor": "#E5ECF6",
            "gridcolor": "white",
            "gridwidth": 2,
            "linecolor": "white",
            "showbackground": true,
            "ticks": "",
            "zerolinecolor": "white"
           },
           "yaxis": {
            "backgroundcolor": "#E5ECF6",
            "gridcolor": "white",
            "gridwidth": 2,
            "linecolor": "white",
            "showbackground": true,
            "ticks": "",
            "zerolinecolor": "white"
           },
           "zaxis": {
            "backgroundcolor": "#E5ECF6",
            "gridcolor": "white",
            "gridwidth": 2,
            "linecolor": "white",
            "showbackground": true,
            "ticks": "",
            "zerolinecolor": "white"
           }
          },
          "shapedefaults": {
           "line": {
            "color": "#2a3f5f"
           }
          },
          "ternary": {
           "aaxis": {
            "gridcolor": "white",
            "linecolor": "white",
            "ticks": ""
           },
           "baxis": {
            "gridcolor": "white",
            "linecolor": "white",
            "ticks": ""
           },
           "bgcolor": "#E5ECF6",
           "caxis": {
            "gridcolor": "white",
            "linecolor": "white",
            "ticks": ""
           }
          },
          "title": {
           "x": 0.05
          },
          "xaxis": {
           "automargin": true,
           "gridcolor": "white",
           "linecolor": "white",
           "ticks": "",
           "title": {
            "standoff": 15
           },
           "zerolinecolor": "white",
           "zerolinewidth": 2
          },
          "yaxis": {
           "automargin": true,
           "gridcolor": "white",
           "linecolor": "white",
           "ticks": "",
           "title": {
            "standoff": 15
           },
           "zerolinecolor": "white",
           "zerolinewidth": 2
          }
         }
        },
        "title": {
         "text": "Missing Values per Column Across Datasets"
        },
        "xaxis": {
         "anchor": "y",
         "domain": [
          0,
          1
         ],
         "title": {
          "text": "Columns"
         }
        },
        "yaxis": {
         "anchor": "x",
         "domain": [
          0,
          1
         ],
         "title": {
          "text": "Count of Missing Values"
         }
        }
       }
      }
     },
     "metadata": {},
     "output_type": "display_data"
    },
    {
     "name": "stdout",
     "output_type": "stream",
     "text": [
      "Missing Data Summary for Happiness Data:\n",
      "country            0\n",
      "year               0\n",
      "happiness_count    0\n",
      "dtype: int64\n",
      "----------------------------------------\n",
      "Missing Data Summary for Internet Use Data:\n",
      "country                       0\n",
      "year                          0\n",
      "percent_internet_household    0\n",
      "dtype: int64\n",
      "----------------------------------------\n",
      "Missing Data Summary for Suicide Rate Data:\n",
      "country            0\n",
      "sex                0\n",
      "year               0\n",
      "mortality_count    0\n",
      "dtype: int64\n",
      "----------------------------------------\n"
     ]
    },
    {
     "data": {
      "text/html": [
       "<div>\n",
       "<style scoped>\n",
       "    .dataframe tbody tr th:only-of-type {\n",
       "        vertical-align: middle;\n",
       "    }\n",
       "\n",
       "    .dataframe tbody tr th {\n",
       "        vertical-align: top;\n",
       "    }\n",
       "\n",
       "    .dataframe thead th {\n",
       "        text-align: right;\n",
       "    }\n",
       "</style>\n",
       "<table border=\"1\" class=\"dataframe\">\n",
       "  <thead>\n",
       "    <tr style=\"text-align: right;\">\n",
       "      <th></th>\n",
       "      <th>country</th>\n",
       "      <th>year</th>\n",
       "      <th>mortality_count</th>\n",
       "    </tr>\n",
       "  </thead>\n",
       "  <tbody>\n",
       "    <tr>\n",
       "      <th>0</th>\n",
       "      <td>Ireland</td>\n",
       "      <td>2016</td>\n",
       "      <td>9.4</td>\n",
       "    </tr>\n",
       "    <tr>\n",
       "      <th>1</th>\n",
       "      <td>Iceland</td>\n",
       "      <td>2017</td>\n",
       "      <td>17.9</td>\n",
       "    </tr>\n",
       "    <tr>\n",
       "      <th>2</th>\n",
       "      <td>South Africa</td>\n",
       "      <td>2016</td>\n",
       "      <td>0.3</td>\n",
       "    </tr>\n",
       "    <tr>\n",
       "      <th>3</th>\n",
       "      <td>South Africa</td>\n",
       "      <td>2017</td>\n",
       "      <td>0.3</td>\n",
       "    </tr>\n",
       "    <tr>\n",
       "      <th>4</th>\n",
       "      <td>Austria</td>\n",
       "      <td>2015</td>\n",
       "      <td>5.9</td>\n",
       "    </tr>\n",
       "  </tbody>\n",
       "</table>\n",
       "</div>"
      ],
      "text/plain": [
       "        country  year  mortality_count\n",
       "0       Ireland  2016              9.4\n",
       "1       Iceland  2017             17.9\n",
       "2  South Africa  2016              0.3\n",
       "3  South Africa  2017              0.3\n",
       "4       Austria  2015              5.9"
      ]
     },
     "execution_count": 20,
     "metadata": {},
     "output_type": "execute_result"
    }
   ],
   "source": [
    "import pandas as pd\n",
    "import plotly.express as px\n",
    "import itables \n",
    "import country_converter as cc\n",
    "\n",
    "# Load suicide_rate data\n",
    "suicide_rate = pd.read_csv(\"data\\suicide_rate_data.csv\")\n",
    "\n",
    "suicide_rate\n",
    "\n",
    "# selecting applicable columns\n",
    "suicide_rate_subset = suicide_rate [[\"Reference area\", \"Sex\", \"TIME_PERIOD\", \"OBS_VALUE\"]]\n",
    "\n",
    "suicide_rate_subset\n",
    "\n",
    "# changing to representative column names\n",
    "suicide_rate_subset = suicide_rate_subset.rename(columns={\"Reference area\": \"country\", \"Sex\": \"sex\", \"TIME_PERIOD\": \"year\", \"OBS_VALUE\": \"mortality_count\"})\n",
    "\n",
    "suicide_rate_subset\n",
    "\n",
    "# internet_use data\n",
    "internet_use = pd.read_csv (\"data\\household_internet_use.csv\")\n",
    "\n",
    "internet_use \n",
    "\n",
    "# selecting applicable columns\n",
    "internet_use_subset = internet_use[[\"Reference area\", \"TIME_PERIOD\", \"OBS_VALUE\"]]\n",
    "\n",
    "internet_use_subset\n",
    "\n",
    "# changing to representative column names\n",
    "internet_use_subset = internet_use_subset.rename(columns={\"Reference area\": \"country\", \"TIME_PERIOD\": \"year\", \"OBS_VALUE\": \"percent_internet_household\"})\n",
    "\n",
    "internet_use_subset\n",
    "\n",
    "# Load happiness_score data\n",
    "happiness_data = pd.read_csv(\"data\\hapiscore_whr.csv\")\n",
    "happiness_data\n",
    "\n",
    "# changing dataset to a long format\n",
    "happiness_data_long = happiness_data.melt(id_vars=\"country\")\n",
    "happiness_data_long\n",
    "\n",
    "# changing to representative column names\n",
    "happiness_data_long = happiness_data.melt(id_vars=\"country\", var_name=\"year\", value_name = \"happiness_count\").sort_values([\"country\", \"year\"])\n",
    "\n",
    "happiness_data_long\n",
    "\n",
    "# Function to check data types \n",
    "\n",
    "def check_data_types(df, name):\n",
    "    print(f\"Data Types for {name}:\\n\")\n",
    "    print(df.dtypes)\n",
    "    print(\"-\" * 40)  # Separator for clarity\n",
    "\n",
    "# checks data types for all three datasets\n",
    "check_data_types(internet_use_subset, \"Internet Use Subset\")\n",
    "check_data_types(suicide_rate_subset, \"Suicide Rate Subset\")\n",
    "check_data_types(happiness_data_long, \"Happiness Data Long\")\n",
    "\n",
    "\n",
    "# converting the 'year' column to integer type, and coercing errors to NaN\n",
    "happiness_data_long['year'] = pd.to_numeric(happiness_data_long['year'], errors='coerce')\n",
    "\n",
    "# Confirm the conversion\n",
    "print(happiness_data_long['year'].dtype)\n",
    "\n",
    "\n",
    "# filtering for year 2015 to 2022\n",
    "happiness_data_long = happiness_data_long[\n",
    "    (happiness_data_long['year'] >= 2015) & (happiness_data_long['year'] <= 2022)\n",
    "]\n",
    "happiness_data_long = happiness_data_long[\n",
    "    (happiness_data_long['year'] >= 2015) & (happiness_data_long['year'] <= 2022)\n",
    "]\n",
    "\n",
    "# Check the result\n",
    "happiness_data_long['year'].unique()\n",
    "\n",
    "#calculating missing values for each dataset\n",
    "happiness_missing = happiness_data_long.isna().sum()\n",
    "internet_missing = internet_use_subset.isna().sum()\n",
    "suicide_missing = suicide_rate_subset.isna().sum()\n",
    "\n",
    "\n",
    "# combining the results into a single DataFrame\n",
    "missing_summary = pd.DataFrame({\n",
    "   'dataset': ['happiness_score', 'internet_use', 'suicide_rate'],\n",
    "   'country': [happiness_missing['country'], internet_missing['country'], suicide_missing['country']],\n",
    "   'year': [happiness_missing['year'], internet_missing['year'], suicide_missing['year']],\n",
    "   'value_column': [happiness_missing['happiness_count'], internet_missing['percent_internet_household'], suicide_missing['mortality_count']]\n",
    "})\n",
    "\n",
    "missing_summary                      \n",
    "\n",
    "# reshaping with melt and naming columns for clarity\n",
    "missing_summary = missing_summary.melt(\n",
    "    id_vars='dataset', var_name='dataset_columns', value_name='missing_count'\n",
    ").sort_values('dataset')\n",
    "missing_summary\n",
    "\n",
    "# bar chart for missing values\n",
    "fig = px.bar(\n",
    "    missing_summary,\n",
    "    x='dataset_columns',\n",
    "    y='missing_count',\n",
    "    color='dataset',\n",
    "    title='Missing Values per Column Across Datasets',\n",
    "    labels={'missing_count': 'Count of Missing Values', 'dataset_columns': 'Columns'},\n",
    "    barmode='group'\n",
    ")\n",
    "\n",
    "fig.show()\n",
    "\n",
    "# dropping missing value from dataset\n",
    "happiness_data_long.dropna(inplace=True)\n",
    "\n",
    "\n",
    "# function to check any persistent missing values\n",
    "def check_missing_data(df, name):\n",
    "    print(f\"Missing Data Summary for {name}:\")\n",
    "    print(df.isna().sum())\n",
    "    print(\"-\" * 40)\n",
    "\n",
    "# Check for missing values in each dataset\n",
    "check_missing_data(happiness_data_long, \"Happiness Data\")\n",
    "check_missing_data(internet_use_subset, \"Internet Use Data\")\n",
    "check_missing_data(suicide_rate_subset, \"Suicide Rate Data\")\n",
    "\n",
    "\n",
    "# rounding to 1 decimal for consistency with other datasets\n",
    "internet_use_subset[\"percent_internet_household\"] = internet_use_subset[\"percent_internet_household\"].round(1)\n",
    "\n",
    "internet_use_subset\n",
    "\n",
    "# creating a pivoted version of the 'suicide_rate_subset' DataFrame \n",
    "# to analyze mortality rates by sex (Male, Female, Total)\n",
    "# without modifying the original 'suicide_rate_subset\n",
    "# pivoting the data so each sex becomes its own column\n",
    "suicide_rate_pivot = suicide_rate_subset.pivot_table(\n",
    "    index=['country', 'year'],\n",
    "    columns='sex',\n",
    "    values='mortality_count',\n",
    "    aggfunc='sum'  # Aggregate if duplicates exist\n",
    ").reset_index()\n",
    "\n",
    "# renaming the columns for clarity\n",
    "suicide_rate_pivot.columns.name = None  # removing column index name\n",
    "suicide_rate_pivot = suicide_rate_pivot.rename(columns={\n",
    "    'Male': 'mortality_male',\n",
    "    'Female': 'mortality_female',\n",
    "    'Total': 'mortality_total'\n",
    "})\n",
    "\n",
    "# cleaned dataset\n",
    "suicide_rate_pivot.head()\n",
    "\n",
    "# droping the 'sex' column from the suicide_rate_subset\n",
    "suicide_rate_cleaned = suicide_rate_subset.drop(columns=['sex'])\n",
    "\n",
    "suicide_rate_cleaned.head()"
   ]
  },
  {
   "cell_type": "code",
   "execution_count": null,
   "id": "7f74bdb0-f0e0-4138-9d6c-1cecb794e24c",
   "metadata": {
    "vscode": {
     "languageId": "quarto"
    }
   },
   "outputs": [
    {
     "name": "stdout",
     "output_type": "stream",
     "text": [
      "(1092, 3)\n",
      "(310, 3)\n",
      "(888, 3)\n",
      "(296, 5)\n"
     ]
    }
   ],
   "source": [
    "print(happiness_data_long.shape)\n",
    "print(internet_use_subset.shape)\n",
    "print(suicide_rate_cleaned.shape)\n",
    "print(suicide_rate_pivot.shape)"
   ]
  },
  {
   "cell_type": "code",
   "execution_count": null,
   "id": "8c202b8b-33af-4db3-8c2a-4271e6d9367e",
   "metadata": {
    "vscode": {
     "languageId": "quarto"
    }
   },
   "outputs": [
    {
     "ename": "TypeError",
     "evalue": "CountryConverter.convert() got an unexpected keyword argument 'errors'",
     "output_type": "error",
     "traceback": [
      "\u001b[1;31m---------------------------------------------------------------------------\u001b[0m",
      "\u001b[1;31mTypeError\u001b[0m                                 Traceback (most recent call last)",
      "File \u001b[1;32mc:\\Users\\dataw\\OneDrive\\Documentos\\GitHub\\graph_courses_python_git\\final_project.qmd:2\u001b[0m\n\u001b[0;32m      1\u001b[0m \u001b[39m# Step 1: Convert country names to ISO3 codes with 'errors=coerce' to handle unrecognized names\u001b[39;00m\n\u001b[1;32m----> 2\u001b[0m happiness_data_long[\u001b[39m\"\u001b[39m\u001b[39mcountry_code\u001b[39m\u001b[39m\"\u001b[39m] \u001b[39m=\u001b[39m happiness_data_long[\u001b[39m\"\u001b[39;49m\u001b[39mcountry\u001b[39;49m\u001b[39m\"\u001b[39;49m]\u001b[39m.\u001b[39;49mapply(\n\u001b[0;32m      3\u001b[0m     \u001b[39mlambda\u001b[39;49;00m x: cc\u001b[39m.\u001b[39;49mconvert(x, to\u001b[39m=\u001b[39;49m\u001b[39m\"\u001b[39;49m\u001b[39mISO3\u001b[39;49m\u001b[39m\"\u001b[39;49m, errors\u001b[39m=\u001b[39;49m\u001b[39m\"\u001b[39;49m\u001b[39mcoerce\u001b[39;49m\u001b[39m\"\u001b[39;49m)\n\u001b[0;32m      4\u001b[0m )\n\u001b[0;32m      6\u001b[0m \u001b[39m# Step 2: Drop rows where 'country_code' is NaN\u001b[39;00m\n\u001b[0;32m      7\u001b[0m happiness_data_long \u001b[39m=\u001b[39m happiness_data_long\u001b[39m.\u001b[39mdropna(subset\u001b[39m=\u001b[39m[\u001b[39m\"\u001b[39m\u001b[39mcountry_code\u001b[39m\u001b[39m\"\u001b[39m])\n",
      "File \u001b[1;32mc:\\Users\\dataw\\OneDrive\\Documentos\\GitHub\\graph_courses_python_git\\.venv\\Lib\\site-packages\\pandas\\core\\series.py:4924\u001b[0m, in \u001b[0;36mSeries.apply\u001b[1;34m(self, func, convert_dtype, args, by_row, **kwargs)\u001b[0m\n\u001b[0;32m   4789\u001b[0m \u001b[39mdef\u001b[39;00m \u001b[39mapply\u001b[39m(\n\u001b[0;32m   4790\u001b[0m     \u001b[39mself\u001b[39m,\n\u001b[0;32m   4791\u001b[0m     func: AggFuncType,\n\u001b[1;32m   (...)\u001b[0m\n\u001b[0;32m   4796\u001b[0m     \u001b[39m*\u001b[39m\u001b[39m*\u001b[39mkwargs,\n\u001b[0;32m   4797\u001b[0m ) \u001b[39m-\u001b[39m\u001b[39m>\u001b[39m DataFrame \u001b[39m|\u001b[39m Series:\n\u001b[0;32m   4798\u001b[0m \u001b[39m    \u001b[39m\u001b[39m\"\"\"\u001b[39;00m\n\u001b[0;32m   4799\u001b[0m \u001b[39m    Invoke function on values of Series.\u001b[39;00m\n\u001b[0;32m   4800\u001b[0m \n\u001b[1;32m   (...)\u001b[0m\n\u001b[0;32m   4915\u001b[0m \u001b[39m    dtype: float64\u001b[39;00m\n\u001b[0;32m   4916\u001b[0m \u001b[39m    \"\"\"\u001b[39;00m\n\u001b[0;32m   4917\u001b[0m     \u001b[39mreturn\u001b[39;00m SeriesApply(\n\u001b[0;32m   4918\u001b[0m         \u001b[39mself\u001b[39;49m,\n\u001b[0;32m   4919\u001b[0m         func,\n\u001b[0;32m   4920\u001b[0m         convert_dtype\u001b[39m=\u001b[39;49mconvert_dtype,\n\u001b[0;32m   4921\u001b[0m         by_row\u001b[39m=\u001b[39;49mby_row,\n\u001b[0;32m   4922\u001b[0m         args\u001b[39m=\u001b[39;49margs,\n\u001b[0;32m   4923\u001b[0m         kwargs\u001b[39m=\u001b[39;49mkwargs,\n\u001b[1;32m-> 4924\u001b[0m     )\u001b[39m.\u001b[39;49mapply()\n",
      "File \u001b[1;32mc:\\Users\\dataw\\OneDrive\\Documentos\\GitHub\\graph_courses_python_git\\.venv\\Lib\\site-packages\\pandas\\core\\apply.py:1427\u001b[0m, in \u001b[0;36mSeriesApply.apply\u001b[1;34m(self)\u001b[0m\n\u001b[0;32m   1424\u001b[0m     \u001b[39mreturn\u001b[39;00m \u001b[39mself\u001b[39m\u001b[39m.\u001b[39mapply_compat()\n\u001b[0;32m   1426\u001b[0m \u001b[39m# self.func is Callable\u001b[39;00m\n\u001b[1;32m-> 1427\u001b[0m \u001b[39mreturn\u001b[39;00m \u001b[39mself\u001b[39;49m\u001b[39m.\u001b[39;49mapply_standard()\n",
      "File \u001b[1;32mc:\\Users\\dataw\\OneDrive\\Documentos\\GitHub\\graph_courses_python_git\\.venv\\Lib\\site-packages\\pandas\\core\\apply.py:1507\u001b[0m, in \u001b[0;36mSeriesApply.apply_standard\u001b[1;34m(self)\u001b[0m\n\u001b[0;32m   1501\u001b[0m \u001b[39m# row-wise access\u001b[39;00m\n\u001b[0;32m   1502\u001b[0m \u001b[39m# apply doesn't have a `na_action` keyword and for backward compat reasons\u001b[39;00m\n\u001b[0;32m   1503\u001b[0m \u001b[39m# we need to give `na_action=\"ignore\"` for categorical data.\u001b[39;00m\n\u001b[0;32m   1504\u001b[0m \u001b[39m# TODO: remove the `na_action=\"ignore\"` when that default has been changed in\u001b[39;00m\n\u001b[0;32m   1505\u001b[0m \u001b[39m#  Categorical (GH51645).\u001b[39;00m\n\u001b[0;32m   1506\u001b[0m action \u001b[39m=\u001b[39m \u001b[39m\"\u001b[39m\u001b[39mignore\u001b[39m\u001b[39m\"\u001b[39m \u001b[39mif\u001b[39;00m \u001b[39misinstance\u001b[39m(obj\u001b[39m.\u001b[39mdtype, CategoricalDtype) \u001b[39melse\u001b[39;00m \u001b[39mNone\u001b[39;00m\n\u001b[1;32m-> 1507\u001b[0m mapped \u001b[39m=\u001b[39m obj\u001b[39m.\u001b[39;49m_map_values(\n\u001b[0;32m   1508\u001b[0m     mapper\u001b[39m=\u001b[39;49mcurried, na_action\u001b[39m=\u001b[39;49maction, convert\u001b[39m=\u001b[39;49m\u001b[39mself\u001b[39;49m\u001b[39m.\u001b[39;49mconvert_dtype\n\u001b[0;32m   1509\u001b[0m )\n\u001b[0;32m   1511\u001b[0m \u001b[39mif\u001b[39;00m \u001b[39mlen\u001b[39m(mapped) \u001b[39mand\u001b[39;00m \u001b[39misinstance\u001b[39m(mapped[\u001b[39m0\u001b[39m], ABCSeries):\n\u001b[0;32m   1512\u001b[0m     \u001b[39m# GH#43986 Need to do list(mapped) in order to get treated as nested\u001b[39;00m\n\u001b[0;32m   1513\u001b[0m     \u001b[39m#  See also GH#25959 regarding EA support\u001b[39;00m\n\u001b[0;32m   1514\u001b[0m     \u001b[39mreturn\u001b[39;00m obj\u001b[39m.\u001b[39m_constructor_expanddim(\u001b[39mlist\u001b[39m(mapped), index\u001b[39m=\u001b[39mobj\u001b[39m.\u001b[39mindex)\n",
      "File \u001b[1;32mc:\\Users\\dataw\\OneDrive\\Documentos\\GitHub\\graph_courses_python_git\\.venv\\Lib\\site-packages\\pandas\\core\\base.py:921\u001b[0m, in \u001b[0;36mIndexOpsMixin._map_values\u001b[1;34m(self, mapper, na_action, convert)\u001b[0m\n\u001b[0;32m    918\u001b[0m \u001b[39mif\u001b[39;00m \u001b[39misinstance\u001b[39m(arr, ExtensionArray):\n\u001b[0;32m    919\u001b[0m     \u001b[39mreturn\u001b[39;00m arr\u001b[39m.\u001b[39mmap(mapper, na_action\u001b[39m=\u001b[39mna_action)\n\u001b[1;32m--> 921\u001b[0m \u001b[39mreturn\u001b[39;00m algorithms\u001b[39m.\u001b[39;49mmap_array(arr, mapper, na_action\u001b[39m=\u001b[39;49mna_action, convert\u001b[39m=\u001b[39;49mconvert)\n",
      "File \u001b[1;32mc:\\Users\\dataw\\OneDrive\\Documentos\\GitHub\\graph_courses_python_git\\.venv\\Lib\\site-packages\\pandas\\core\\algorithms.py:1743\u001b[0m, in \u001b[0;36mmap_array\u001b[1;34m(arr, mapper, na_action, convert)\u001b[0m\n\u001b[0;32m   1741\u001b[0m values \u001b[39m=\u001b[39m arr\u001b[39m.\u001b[39mastype(\u001b[39mobject\u001b[39m, copy\u001b[39m=\u001b[39m\u001b[39mFalse\u001b[39;00m)\n\u001b[0;32m   1742\u001b[0m \u001b[39mif\u001b[39;00m na_action \u001b[39mis\u001b[39;00m \u001b[39mNone\u001b[39;00m:\n\u001b[1;32m-> 1743\u001b[0m     \u001b[39mreturn\u001b[39;00m lib\u001b[39m.\u001b[39;49mmap_infer(values, mapper, convert\u001b[39m=\u001b[39;49mconvert)\n\u001b[0;32m   1744\u001b[0m \u001b[39melse\u001b[39;00m:\n\u001b[0;32m   1745\u001b[0m     \u001b[39mreturn\u001b[39;00m lib\u001b[39m.\u001b[39mmap_infer_mask(\n\u001b[0;32m   1746\u001b[0m         values, mapper, mask\u001b[39m=\u001b[39misna(values)\u001b[39m.\u001b[39mview(np\u001b[39m.\u001b[39muint8), convert\u001b[39m=\u001b[39mconvert\n\u001b[0;32m   1747\u001b[0m     )\n",
      "File \u001b[1;32mlib.pyx:2972\u001b[0m, in \u001b[0;36mpandas._libs.lib.map_infer\u001b[1;34m()\u001b[0m\n",
      "File \u001b[1;32mc:\\Users\\dataw\\OneDrive\\Documentos\\GitHub\\graph_courses_python_git\\final_project.qmd:3\u001b[0m\n\u001b[0;32m      1\u001b[0m \u001b[39m# Step 1: Convert country names to ISO3 codes with 'errors=coerce' to handle unrecognized names\u001b[39;00m\n\u001b[0;32m      2\u001b[0m happiness_data_long[\u001b[39m\"\u001b[39m\u001b[39mcountry_code\u001b[39m\u001b[39m\"\u001b[39m] \u001b[39m=\u001b[39m happiness_data_long[\u001b[39m\"\u001b[39m\u001b[39mcountry\u001b[39m\u001b[39m\"\u001b[39m]\u001b[39m.\u001b[39mapply(\n\u001b[1;32m----> 3\u001b[0m     \u001b[39mlambda\u001b[39;00m x: cc\u001b[39m.\u001b[39;49mconvert(x, to\u001b[39m=\u001b[39;49m\u001b[39m\"\u001b[39;49m\u001b[39mISO3\u001b[39;49m\u001b[39m\"\u001b[39;49m, errors\u001b[39m=\u001b[39;49m\u001b[39m\"\u001b[39;49m\u001b[39mcoerce\u001b[39;49m\u001b[39m\"\u001b[39;49m)\n\u001b[0;32m      4\u001b[0m )\n\u001b[0;32m      6\u001b[0m \u001b[39m# Step 2: Drop rows where 'country_code' is NaN\u001b[39;00m\n\u001b[0;32m      7\u001b[0m happiness_data_long \u001b[39m=\u001b[39m happiness_data_long\u001b[39m.\u001b[39mdropna(subset\u001b[39m=\u001b[39m[\u001b[39m\"\u001b[39m\u001b[39mcountry_code\u001b[39m\u001b[39m\"\u001b[39m])\n",
      "File \u001b[1;32mc:\\Users\\dataw\\OneDrive\\Documentos\\GitHub\\graph_courses_python_git\\.venv\\Lib\\site-packages\\country_converter\\country_converter.py:334\u001b[0m, in \u001b[0;36mconvert\u001b[1;34m(*args, **kargs)\u001b[0m\n\u001b[0;32m    332\u001b[0m coco \u001b[39m=\u001b[39m CountryConverter(\u001b[39m*\u001b[39m\u001b[39m*\u001b[39minit)\n\u001b[0;32m    333\u001b[0m kargs \u001b[39m=\u001b[39m {kk: ii \u001b[39mfor\u001b[39;00m kk, ii \u001b[39min\u001b[39;00m kargs\u001b[39m.\u001b[39mitems() \u001b[39mif\u001b[39;00m kk \u001b[39mnot\u001b[39;00m \u001b[39min\u001b[39;00m init\u001b[39m.\u001b[39mkeys()}\n\u001b[1;32m--> 334\u001b[0m \u001b[39mreturn\u001b[39;00m coco\u001b[39m.\u001b[39;49mconvert(\u001b[39m*\u001b[39;49margs, \u001b[39m*\u001b[39;49m\u001b[39m*\u001b[39;49mkargs)\n",
      "\u001b[1;31mTypeError\u001b[0m: CountryConverter.convert() got an unexpected keyword argument 'errors'"
     ]
    }
   ],
   "source": [
    "# Step 1: Convert country names to ISO3 codes with 'errors=coerce' to handle unrecognized names\n",
    "happiness_data_long[\"country_code\"] = happiness_data_long[\"country\"].apply(\n",
    "    lambda x: cc.convert(x, to=\"ISO3\", errors=\"coerce\")\n",
    ")\n",
    "\n",
    "# Step 2: Drop rows where 'country_code' is NaN\n",
    "happiness_data_long = happiness_data_long.dropna(subset=[\"country_code\"])\n",
    "\n",
    "# Step 3: Verify the updated DataFrame\n",
    "print(happiness_data_long.head())\n",
    "print(f\"Shape after dropping invalid countries: {happiness_data_long.shape}\")"
   ]
  },
  {
   "cell_type": "code",
   "execution_count": null,
   "id": "c85e6d55-c613-4c5b-903c-b95d7aca4178",
   "metadata": {
    "vscode": {
     "languageId": "quarto"
    }
   },
   "outputs": [
    {
     "name": "stderr",
     "output_type": "stream",
     "text": [
      "UAE not found in ISO3\n",
      "UAE not found in ISO3\n",
      "UAE not found in ISO3\n",
      "UAE not found in ISO3\n",
      "UAE not found in ISO3\n",
      "UAE not found in ISO3\n",
      "UAE not found in ISO3\n",
      "UAE not found in ISO3\n"
     ]
    },
    {
     "name": "stdout",
     "output_type": "stream",
     "text": [
      "          country  year  happiness_count country_code\n",
      "1640  Afghanistan  2015             39.8          AFG\n",
      "1804  Afghanistan  2016             42.2          AFG\n",
      "1968  Afghanistan  2017             26.6          AFG\n",
      "2132  Afghanistan  2018             26.9          AFG\n",
      "2296  Afghanistan  2019             23.8          AFG\n",
      "New shape of the DataFrame: (1092, 4)\n"
     ]
    }
   ],
   "source": [
    "# Convert country names to ISO3 codes; invalid entries will become NaN\n",
    "happiness_data_long[\"country_code\"] = cc.convert(\n",
    "    names=happiness_data_long[\"country\"], to=\"ISO3\", not_found=None\n",
    ")\n",
    "# Drop rows where 'country_code' is missing\n",
    "happiness_data_long = happiness_data_long.dropna(subset=[\"country_code\"])\n",
    "\n",
    "# Verify the result\n",
    "print(happiness_data_long.head())\n",
    "print(f\"New shape of the DataFrame: {happiness_data_long.shape}\")"
   ]
  },
  {
   "cell_type": "code",
   "execution_count": null,
   "id": "482ee218-aacb-4407-8dac-cfc469718e59",
   "metadata": {
    "vscode": {
     "languageId": "quarto"
    }
   },
   "outputs": [
    {
     "name": "stderr",
     "output_type": "stream",
     "text": [
      "UAE not found in ISO3\n",
      "UAE not found in ISO3\n",
      "UAE not found in ISO3\n",
      "UAE not found in ISO3\n",
      "UAE not found in ISO3\n",
      "UAE not found in ISO3\n",
      "UAE not found in ISO3\n",
      "UAE not found in ISO3\n"
     ]
    },
    {
     "name": "stdout",
     "output_type": "stream",
     "text": [
      "          country  year  happiness_count country_code\n",
      "1640  Afghanistan  2015             39.8          AFG\n",
      "1804  Afghanistan  2016             42.2          AFG\n",
      "1968  Afghanistan  2017             26.6          AFG\n",
      "2132  Afghanistan  2018             26.9          AFG\n",
      "2296  Afghanistan  2019             23.8          AFG\n",
      "New shape of the DataFrame: (1092, 4)\n"
     ]
    }
   ],
   "source": [
    "# Convert country names to ISO3 codes; invalid entries will become NaN\n",
    "happiness_data_long[\"country_code\"] = cc.convert(\n",
    "    names=happiness_data_long[\"country\"], to=\"ISO3\", not_found=None\n",
    ")\n",
    "# Step 2: Explicitly replace 'None' or invalid values with NaN\n",
    "happiness_data_long[\"country_code\"] = happiness_data_long[\"country_code\"].replace([None, 'nan', ''], pd.NA)\n",
    "\n",
    "# Drop rows where 'country_code' is missing\n",
    "happiness_data_long = happiness_data_long.dropna(subset=[\"country_code\"])\n",
    "\n",
    "# Verify the result\n",
    "print(happiness_data_long.head())\n",
    "print(f\"New shape of the DataFrame: {happiness_data_long.shape}\")"
   ]
  },
  {
   "cell_type": "code",
   "execution_count": null,
   "id": "aaa2c0c5-77f7-4ba1-844d-66ed4e715bf3",
   "metadata": {
    "vscode": {
     "languageId": "quarto"
    }
   },
   "outputs": [
    {
     "name": "stderr",
     "output_type": "stream",
     "text": [
      "UAE not found in ISO3\n",
      "UAE not found in ISO3\n",
      "UAE not found in ISO3\n",
      "UAE not found in ISO3\n",
      "UAE not found in ISO3\n",
      "UAE not found in ISO3\n",
      "UAE not found in ISO3\n",
      "UAE not found in ISO3\n"
     ]
    },
    {
     "name": "stdout",
     "output_type": "stream",
     "text": [
      "          country  year  happiness_count country_code\n",
      "1640  Afghanistan  2015             39.8          AFG\n",
      "1804  Afghanistan  2016             42.2          AFG\n",
      "1968  Afghanistan  2017             26.6          AFG\n",
      "2132  Afghanistan  2018             26.9          AFG\n",
      "2296  Afghanistan  2019             23.8          AFG\n",
      "Shape after dropping invalid countries: (1092, 4)\n"
     ]
    }
   ],
   "source": [
    "# Convert country names to ISO3 codes; invalid entries will become NaN\n",
    "happiness_data_long[\"country_code\"] = cc.convert(\n",
    "    names=happiness_data_long[\"country\"], to=\"ISO3\", not_found=None\n",
    ")\n",
    "# Step 2: Explicitly replace 'None' or invalid values with NaN\n",
    "happiness_data_long[\"country_code\"] = happiness_data_long[\"country_code\"].replace([None, 'nan', ''], pd.NA)\n",
    "\n",
    "# Drop rows where 'country_code' is missing\n",
    "happiness_data_long = happiness_data_long.dropna(subset=[\"country_code\"])\n",
    "\n",
    "# Verify the result\n",
    "print(happiness_data_long.head())\n",
    "print(f\"Shape after dropping invalid countries: {happiness_data_long.shape}\")"
   ]
  }
 ],
 "metadata": {
  "kernelspec": {
   "display_name": ".venv",
   "language": "python",
   "name": "python3"
  },
  "language_info": {
   "name": "python",
   "version": "3.12.6"
  }
 },
 "nbformat": 4,
 "nbformat_minor": 2
}
